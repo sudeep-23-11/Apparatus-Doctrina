{
 "cells": [
  {
   "cell_type": "code",
   "execution_count": null,
   "metadata": {},
   "outputs": [],
   "source": [
    "import math\n",
    "import numpy as np"
   ]
  },
  {
   "cell_type": "code",
   "execution_count": null,
   "metadata": {},
   "outputs": [],
   "source": [
    "P = np.array([6, 6])\n",
    "N1 = np.array([5, 2])\n",
    "N2 = np.array([1, 4])"
   ]
  },
  {
   "cell_type": "code",
   "execution_count": null,
   "metadata": {},
   "outputs": [],
   "source": [
    "def p(i, A) :\n",
    "    return A[i] / np.sum(A)"
   ]
  },
  {
   "cell_type": "markdown",
   "metadata": {},
   "source": [
    "### Gini Impurity"
   ]
  },
  {
   "cell_type": "markdown",
   "metadata": {},
   "source": [
    "Better split has higher Gini Gain"
   ]
  },
  {
   "cell_type": "code",
   "execution_count": null,
   "metadata": {},
   "outputs": [],
   "source": [
    "gini_impurity_P = 1 - (p(0, P) ** 2 + p(1, P) ** 2)\n",
    "print(f\"Gini Impurity of parent is {gini_impurity_P}\")\n",
    "\n",
    "gini_impurity_N1 = 1 - (p(0, N1) ** 2 + p(1, N1) ** 2)\n",
    "print(f\"Gini Impurity of node 1 is {gini_impurity_N1}\")\n",
    "\n",
    "gini_impurity_N2 = 1 - (p(0, N2) ** 2 + p(1, N2) ** 2)\n",
    "print(f\"Gini Impurity of node 2 is {gini_impurity_N2}\")"
   ]
  },
  {
   "cell_type": "code",
   "execution_count": null,
   "metadata": {},
   "outputs": [],
   "source": [
    "gini_gain = gini_impurity_P - ((np.sum(N1) / np.sum(P)) * gini_impurity_N1 + (np.sum(N2) / np.sum(P)) * gini_impurity_N2)\n",
    "print(f\"Gini Gain of split is {gini_gain}\")"
   ]
  },
  {
   "cell_type": "markdown",
   "metadata": {},
   "source": [
    "### Information Gain"
   ]
  },
  {
   "cell_type": "markdown",
   "metadata": {},
   "source": [
    "Better split has higher Information Gain"
   ]
  },
  {
   "cell_type": "code",
   "execution_count": null,
   "metadata": {},
   "outputs": [],
   "source": [
    "entropy_P = - (p(0, P) * math.log2(p(0, P)) + p(1, P) * math.log2(p(1, P)))\n",
    "print(f\"Entropy of parent is {entropy_P}\")\n",
    "\n",
    "entropy_N1 = - (p(0, N1) * math.log2(p(0, N1)) + p(1, N1) * math.log2(p(1, N1)))\n",
    "print(f\"Entropy of node 1 is {entropy_N1}\")\n",
    "\n",
    "entropy_N2 = - (p(0, N2) * math.log2(p(0, N2)) + p(1, N2) * math.log2(p(1, N2)))\n",
    "print(f\"Entropy of node 2 is {entropy_N2}\")"
   ]
  },
  {
   "cell_type": "code",
   "execution_count": null,
   "metadata": {},
   "outputs": [],
   "source": [
    "information_gain = entropy_P - ((np.sum(N1) / np.sum(P)) * entropy_N1 + (np.sum(N2) / np.sum(P)) * entropy_N2)\n",
    "print(f\"Information Gain of split is {information_gain}\")"
   ]
  }
 ],
 "metadata": {
  "kernelspec": {
   "display_name": "Python 3.10.6 64-bit",
   "language": "python",
   "name": "python3"
  },
  "language_info": {
   "codemirror_mode": {
    "name": "ipython",
    "version": 3
   },
   "file_extension": ".py",
   "mimetype": "text/x-python",
   "name": "python",
   "nbconvert_exporter": "python",
   "pygments_lexer": "ipython3",
   "version": "3.10.6"
  },
  "orig_nbformat": 4,
  "vscode": {
   "interpreter": {
    "hash": "26de051ba29f2982a8de78e945f0abaf191376122a1563185a90213a26c5da77"
   }
  }
 },
 "nbformat": 4,
 "nbformat_minor": 2
}
