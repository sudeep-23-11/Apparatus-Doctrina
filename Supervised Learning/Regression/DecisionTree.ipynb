{
  "nbformat": 4,
  "nbformat_minor": 0,
  "metadata": {
    "colab": {
      "name": "DecisionTree.ipynb",
      "provenance": [],
      "collapsed_sections": []
    },
    "kernelspec": {
      "name": "python3",
      "display_name": "Python 3"
    },
    "language_info": {
      "name": "python"
    }
  },
  "cells": [
    {
      "cell_type": "code",
      "source": [
        "import numpy as np\n",
        "import pandas as pd"
      ],
      "metadata": {
        "id": "OyuEik3K-hRz"
      },
      "execution_count": 180,
      "outputs": []
    },
    {
      "cell_type": "code",
      "execution_count": 211,
      "metadata": {
        "id": "gI32B3xM8ozw"
      },
      "outputs": [],
      "source": [
        "from sklearn.model_selection import train_test_split\n",
        "from sklearn.tree import DecisionTreeRegressor\n",
        "from sklearn.metrics import r2_score"
      ]
    },
    {
      "cell_type": "code",
      "source": [
        "df = pd.read_csv(\"boston-house-prices.csv\")"
      ],
      "metadata": {
        "id": "GbTf4Nw6FZyR"
      },
      "execution_count": 202,
      "outputs": []
    },
    {
      "cell_type": "code",
      "source": [
        "df"
      ],
      "metadata": {
        "id": "IJdPVddsafIg"
      },
      "execution_count": null,
      "outputs": []
    },
    {
      "cell_type": "code",
      "source": [
        "print(df.isnull().sum())"
      ],
      "metadata": {
        "id": "wmif9K503xWP"
      },
      "execution_count": null,
      "outputs": []
    },
    {
      "cell_type": "code",
      "source": [
        "df[\"CRIM\"] = df[\"CRIM\"].fillna(value=df[\"CRIM\"].mean())\n",
        "df[\"ZN\"] = df[\"ZN\"].fillna(value=df[\"ZN\"].mean())\n",
        "df[\"INDUS\"] = df[\"INDUS\"].fillna(value=df[\"INDUS\"].mean())\n",
        "df[\"CHAS\"] = df[\"CHAS\"].fillna(value=df[\"CHAS\"].mean())\n",
        "df[\"AGE\"] = df[\"AGE\"].fillna(value=df[\"AGE\"].mean())\n",
        "df[\"LSTAT\"] = df[\"LSTAT\"].fillna(value=df[\"LSTAT\"].mean())"
      ],
      "metadata": {
        "id": "6F0CibvEJPwc"
      },
      "execution_count": 205,
      "outputs": []
    },
    {
      "cell_type": "code",
      "source": [
        "X = df.drop([\"MEDV\"], axis=1)\n",
        "Y = df[\"MEDV\"]"
      ],
      "metadata": {
        "id": "CkySHhtzFq46"
      },
      "execution_count": 207,
      "outputs": []
    },
    {
      "cell_type": "code",
      "source": [
        "x_train, x_test, y_train, y_test = train_test_split(X, Y, test_size=0.2, random_state=42)"
      ],
      "metadata": {
        "id": "8lhpSTiR-IAz"
      },
      "execution_count": 208,
      "outputs": []
    },
    {
      "cell_type": "code",
      "source": [
        "model = DecisionTreeRegressor(criterion=\"squared_error\", splitter=\"best\", max_depth=None)\n",
        "model.fit(x_train, y_train)"
      ],
      "metadata": {
        "id": "7Mg2QGY8Bg4E"
      },
      "execution_count": null,
      "outputs": []
    },
    {
      "cell_type": "code",
      "source": [
        "y_predict = model.predict(x_test)\n",
        "print(r2_score(y_test, y_predict))"
      ],
      "metadata": {
        "id": "eqwTukr6C6TS"
      },
      "execution_count": null,
      "outputs": []
    }
  ]
}