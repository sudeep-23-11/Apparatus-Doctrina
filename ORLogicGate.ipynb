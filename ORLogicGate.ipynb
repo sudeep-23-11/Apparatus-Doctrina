{
  "nbformat": 4,
  "nbformat_minor": 0,
  "metadata": {
    "colab": {
      "name": "ORLogicGate.ipynb",
      "provenance": [],
      "collapsed_sections": []
    },
    "kernelspec": {
      "name": "python3",
      "display_name": "Python 3"
    },
    "language_info": {
      "name": "python"
    }
  },
  "cells": [
    {
      "cell_type": "code",
      "metadata": {
        "id": "Lvdie1YBN98I"
      },
      "source": [
        "import tensorflow.compat.v1 as tf\n",
        "tf.disable_eager_execution()"
      ],
      "execution_count": 89,
      "outputs": []
    },
    {
      "cell_type": "code",
      "metadata": {
        "id": "1PGPtN4JONDD"
      },
      "source": [
        "T=1.0\n",
        "F=0.0\n",
        "bias=1.0\n",
        "threshold=0.5"
      ],
      "execution_count": 90,
      "outputs": []
    },
    {
      "cell_type": "code",
      "metadata": {
        "id": "2kOG-_wxYbdH"
      },
      "source": [
        "x=[[F, F, bias],\n",
        "  [F, T, bias],\n",
        "  [T, F, bias],\n",
        "  [T, T, bias]]\n",
        "y=[[F],\n",
        "   [T],\n",
        "   [T],\n",
        "   [T]]\n",
        "w=tf.Variable(tf.random_normal([3, 1]))"
      ],
      "execution_count": 91,
      "outputs": []
    },
    {
      "cell_type": "code",
      "metadata": {
        "id": "dr3TJ5PLwfqH"
      },
      "source": [
        "def step_activation(x) :\n",
        "  y=tf.greater(x, threshold)\n",
        "  z=tf.cast(y, tf.float32)\n",
        "  return z"
      ],
      "execution_count": 92,
      "outputs": []
    },
    {
      "cell_type": "code",
      "metadata": {
        "id": "Uy9LF-UaZHwX"
      },
      "source": [
        "y_predict=step_activation(tf.matmul(x, w))\n",
        "y_delta=tf.subtract(y, y_predict)\n",
        "loss=tf.reduce_mean(tf.square(y_delta))\n",
        "w_delta=tf.matmul(x, y_delta, transpose_a=True)\n",
        "train=tf.assign(w, tf.add(w, w_delta))"
      ],
      "execution_count": 93,
      "outputs": []
    },
    {
      "cell_type": "code",
      "metadata": {
        "id": "j0_Esla_6Fao"
      },
      "source": [
        "sess=tf.Session()\n",
        "sess.run(tf.global_variables_initializer())\n",
        "epoch=0\n",
        "error=1\n",
        "while epoch<10 and error>0 :\n",
        "  error=sess.run(loss)\n",
        "  sess.run(train)\n",
        "  print(f'epoch={epoch} -> loss={error}')\n",
        "  epoch+=1"
      ],
      "execution_count": null,
      "outputs": []
    }
  ]
}