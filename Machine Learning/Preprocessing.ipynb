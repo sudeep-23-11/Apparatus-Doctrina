{
  "cells": [
    {
      "cell_type": "code",
      "execution_count": null,
      "metadata": {},
      "outputs": [],
      "source": [
        "import pandas as pd"
      ]
    },
    {
      "cell_type": "code",
      "execution_count": null,
      "metadata": {},
      "outputs": [],
      "source": [
        "from sklearn.preprocessing import LabelEncoder\n",
        "from sklearn.preprocessing import OneHotEncoder\n",
        "from sklearn.preprocessing import StandardScaler\n",
        "from sklearn.preprocessing import MinMaxScaler\n",
        "from sklearn.preprocessing import MaxAbsScaler\n",
        "from sklearn.preprocessing import RobustScaler\n",
        "from sklearn.utils import shuffle\n",
        "from sklearn.utils import resample"
      ]
    },
    {
      "cell_type": "code",
      "execution_count": null,
      "metadata": {},
      "outputs": [],
      "source": [
        "dict = {'X' : ['A', 'B', 'C']}\n",
        "df = pd.DataFrame(dict)\n",
        "df"
      ]
    },
    {
      "cell_type": "markdown",
      "metadata": {},
      "source": [
        "### Label Encoding"
      ]
    },
    {
      "cell_type": "markdown",
      "metadata": {},
      "source": [
        "* Used when number of classes are more\n",
        "* Used when order of classes does not matter"
      ]
    },
    {
      "cell_type": "code",
      "execution_count": null,
      "metadata": {},
      "outputs": [],
      "source": [
        "le = LabelEncoder()\n",
        "df['X'] = le.fit_transform(df['X'])\n",
        "df"
      ]
    },
    {
      "cell_type": "markdown",
      "metadata": {},
      "source": [
        "### One-Hot Encoding"
      ]
    },
    {
      "cell_type": "markdown",
      "metadata": {},
      "source": [
        "* Used when number of classes are less\n",
        "* Used when order of classes does matter"
      ]
    },
    {
      "cell_type": "code",
      "execution_count": null,
      "metadata": {
        "id": "UtxxlGIyt7VQ"
      },
      "outputs": [],
      "source": [
        "le = OneHotEncoder()\n",
        "df_x = pd.DataFrame(le.fit_transform(df[['X']]).toarray())\n",
        "df_x = df_x.rename(columns = {0 : 'A', 1 : 'B', 2 : 'C'})\n",
        "df.drop(['X'], axis=1, inplace=True)\n",
        "df = pd.concat([df, df_x], axis=1)\n",
        "df"
      ]
    },
    {
      "cell_type": "markdown",
      "metadata": {},
      "source": [
        "### Scaling"
      ]
    },
    {
      "cell_type": "markdown",
      "metadata": {},
      "source": [
        "* Standard Scaler - Scales column values such that mean is 0 and variance is 1\n",
        "* MinMax Scaler - Scales column values to the range [0, 1]\n",
        "* MaxAbs Scaler - Scales column values such that maximum absolute value is 1\n",
        "* Robust Scaler - Used when outliers are present"
      ]
    },
    {
      "cell_type": "markdown",
      "metadata": {},
      "source": [
        "* sc = StandardScaler()\n",
        "* x_train = sc.fit_transform(x_train)\n",
        "* x_test = sc.transform(x_test)"
      ]
    },
    {
      "cell_type": "markdown",
      "metadata": {},
      "source": [
        "### Shuffling"
      ]
    },
    {
      "cell_type": "markdown",
      "metadata": {},
      "source": [
        "* Used to shuffle the data\n",
        "* Done before train_test_split \n",
        "* X, Y = shuffle(X, Y, random_state = 42)"
      ]
    },
    {
      "cell_type": "markdown",
      "metadata": {},
      "source": [
        "### Resampling"
      ]
    },
    {
      "cell_type": "markdown",
      "metadata": {},
      "source": [
        "* Used to downsample the majority class data\n",
        "* Used to upsample the minority class data\n",
        "* Done after train_test_split\n",
        "* X, Y = resample(X, Y, random_state = 42)"
      ]
    }
  ],
  "metadata": {
    "colab": {
      "collapsed_sections": [],
      "name": "ScikitLearn.ipynb",
      "provenance": []
    },
    "kernelspec": {
      "display_name": "Python 3.10.5 64-bit",
      "language": "python",
      "name": "python3"
    },
    "language_info": {
      "codemirror_mode": {
        "name": "ipython",
        "version": 3
      },
      "file_extension": ".py",
      "mimetype": "text/x-python",
      "name": "python",
      "nbconvert_exporter": "python",
      "pygments_lexer": "ipython3",
      "version": "3.10.5"
    },
    "vscode": {
      "interpreter": {
        "hash": "17c9b079d698d6797df28b67fb636f9ca66cee8817b85e8ae679908c3c716f9e"
      }
    }
  },
  "nbformat": 4,
  "nbformat_minor": 0
}
