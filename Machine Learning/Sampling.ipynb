{
  "cells": [
    {
      "cell_type": "code",
      "execution_count": null,
      "metadata": {
        "id": "H4Wco0CKODS5"
      },
      "outputs": [],
      "source": [
        "import random"
      ]
    },
    {
      "cell_type": "code",
      "execution_count": null,
      "metadata": {
        "id": "qhn7MVt8OcQQ"
      },
      "outputs": [],
      "source": [
        "P = []\n",
        "for i in range(100) :\n",
        "    P.append(random.randint(0, 999))\n",
        "print(P)"
      ]
    },
    {
      "cell_type": "markdown",
      "metadata": {},
      "source": [
        "Random Sampling"
      ]
    },
    {
      "cell_type": "code",
      "execution_count": null,
      "metadata": {
        "id": "jF4I-Y6GNPO7"
      },
      "outputs": [],
      "source": [
        "S = []\n",
        "for i in range(10) :\n",
        "    S.append(P[random.randint(0, 99)])\n",
        "print(S)"
      ]
    },
    {
      "cell_type": "markdown",
      "metadata": {},
      "source": [
        "Systematic Sampling"
      ]
    },
    {
      "cell_type": "code",
      "execution_count": null,
      "metadata": {
        "id": "AA0gd5NaNgym"
      },
      "outputs": [],
      "source": [
        "S = []\n",
        "c = 9\n",
        "for i in range(10) :\n",
        "    S.append(P[c])\n",
        "    c += 10\n",
        "print(S)"
      ]
    },
    {
      "cell_type": "markdown",
      "metadata": {},
      "source": [
        "Stratified Sampling"
      ]
    },
    {
      "cell_type": "code",
      "execution_count": null,
      "metadata": {
        "id": "ZfBIp698NhG3"
      },
      "outputs": [],
      "source": [
        "E = []\n",
        "O = []\n",
        "for i in range(100) :\n",
        "    if P[i] % 2 == 0 :\n",
        "        E.append(P[i])\n",
        "    else :\n",
        "        O.append(P[i])\n",
        "S = []\n",
        "for i in range(5) :\n",
        "    S.append(E[random.randint(0, (len(E) - 1))])\n",
        "for i in range(5) :\n",
        "    S.append(O[random.randint(0, (len(O) - 1))])\n",
        "print(S)"
      ]
    }
  ],
  "metadata": {
    "colab": {
      "collapsed_sections": [],
      "name": "TypesOfSampling.ipynb",
      "provenance": []
    },
    "kernelspec": {
      "display_name": "Python 3.10.5 64-bit",
      "language": "python",
      "name": "python3"
    },
    "language_info": {
      "codemirror_mode": {
        "name": "ipython",
        "version": 3
      },
      "file_extension": ".py",
      "mimetype": "text/x-python",
      "name": "python",
      "nbconvert_exporter": "python",
      "pygments_lexer": "ipython3",
      "version": "3.10.5"
    },
    "vscode": {
      "interpreter": {
        "hash": "17c9b079d698d6797df28b67fb636f9ca66cee8817b85e8ae679908c3c716f9e"
      }
    }
  },
  "nbformat": 4,
  "nbformat_minor": 0
}
