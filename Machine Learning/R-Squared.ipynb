{
  "cells": [
    {
      "cell_type": "code",
      "execution_count": null,
      "metadata": {
        "id": "gJ1DyUqT_BCA"
      },
      "outputs": [],
      "source": [
        "import random\n",
        "import numpy as np\n",
        "import matplotlib.pyplot as plt"
      ]
    },
    {
      "cell_type": "code",
      "execution_count": null,
      "metadata": {
        "id": "2HjIBnquWy5K"
      },
      "outputs": [],
      "source": [
        "from sklearn.metrics import r2_score"
      ]
    },
    {
      "cell_type": "code",
      "execution_count": null,
      "metadata": {},
      "outputs": [],
      "source": [
        "X = []\n",
        "Y = []\n",
        "for i in range(100) :\n",
        "    X.append(i)\n",
        "    Y.append(random.randint(0, 999))\n",
        "X = np.array(X)\n",
        "Y = np.array(Y)\n",
        "Y = np.sort(Y)\n",
        "print(X, Y, sep=\"\\n\")\n",
        "\n",
        "x_mean = np.mean(X)\n",
        "y_mean = np.mean(Y)\n",
        "print(x_mean, y_mean)"
      ]
    },
    {
      "cell_type": "markdown",
      "metadata": {},
      "source": [
        "Line of Best Fit"
      ]
    },
    {
      "cell_type": "code",
      "execution_count": null,
      "metadata": {
        "id": "K0ZuOX4wBkrA"
      },
      "outputs": [],
      "source": [
        "n = 0\n",
        "d = 0\n",
        "for i in range(100) :\n",
        "    n += (X[i] - x_mean) * (Y[i] - y_mean)\n",
        "    d += (X[i] - x_mean) ** 2\n",
        "m = n / d\n",
        "c = y_mean - m * x_mean\n",
        "print(m, c)\n",
        "\n",
        "plt.scatter(X, Y, color='r', marker='.')\n",
        "plt.plot(X, m * X + c, color='b')\n",
        "plt.show()"
      ]
    },
    {
      "cell_type": "markdown",
      "metadata": {},
      "source": [
        "R-Squared"
      ]
    },
    {
      "cell_type": "code",
      "execution_count": null,
      "metadata": {
        "id": "GDme936j9Y2J"
      },
      "outputs": [],
      "source": [
        "ss_e = 0\n",
        "ss_t = 0\n",
        "for i in range(100) :\n",
        "    ss_e += (Y[i] - m * X[i] - c) ** 2\n",
        "    ss_t += (Y[i] - y_mean) ** 2\n",
        "r2 = 1 - ss_e / ss_t\n",
        "print(r2)\n",
        "\n",
        "ss_r = 0\n",
        "ss_t = 0\n",
        "for i in range(100) :\n",
        "    ss_r += (m * X[i] + c - y_mean) ** 2\n",
        "    ss_t += (Y[i] - y_mean) ** 2\n",
        "r2 = ss_r / ss_t\n",
        "print(r2)\n",
        "\n",
        "r2 = r2_score(Y, m * X + c)\n",
        "print(r2)"
      ]
    },
    {
      "cell_type": "markdown",
      "metadata": {},
      "source": [
        "Adjusted R-Squared"
      ]
    },
    {
      "cell_type": "code",
      "execution_count": null,
      "metadata": {
        "id": "HdqX4AN3FLqR"
      },
      "outputs": [],
      "source": [
        "N = 100\n",
        "p = 1\n",
        "ad_r2 = 1 - (1 - r2) * (N - 1) / (N - p - 1)\n",
        "print(ad_r2)"
      ]
    }
  ],
  "metadata": {
    "colab": {
      "collapsed_sections": [],
      "name": "RSquareAndAdjustedRSquare.ipynb",
      "provenance": []
    },
    "kernelspec": {
      "display_name": "Python 3.10.5 64-bit",
      "language": "python",
      "name": "python3"
    },
    "language_info": {
      "codemirror_mode": {
        "name": "ipython",
        "version": 3
      },
      "file_extension": ".py",
      "mimetype": "text/x-python",
      "name": "python",
      "nbconvert_exporter": "python",
      "pygments_lexer": "ipython3",
      "version": "3.10.5"
    },
    "vscode": {
      "interpreter": {
        "hash": "17c9b079d698d6797df28b67fb636f9ca66cee8817b85e8ae679908c3c716f9e"
      }
    }
  },
  "nbformat": 4,
  "nbformat_minor": 0
}
