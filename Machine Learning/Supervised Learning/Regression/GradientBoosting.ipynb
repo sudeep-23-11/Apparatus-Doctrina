{
  "cells": [
    {
      "cell_type": "code",
      "execution_count": 6,
      "metadata": {
        "id": "OyuEik3K-hRz"
      },
      "outputs": [],
      "source": [
        "import numpy as np\n",
        "import pandas as pd"
      ]
    },
    {
      "cell_type": "code",
      "execution_count": 27,
      "metadata": {
        "id": "gI32B3xM8ozw"
      },
      "outputs": [],
      "source": [
        "from sklearn.model_selection import train_test_split\n",
        "from sklearn.ensemble import GradientBoostingRegressor\n",
        "from sklearn.metrics import r2_score"
      ]
    },
    {
      "cell_type": "code",
      "execution_count": 8,
      "metadata": {
        "id": "GbTf4Nw6FZyR"
      },
      "outputs": [],
      "source": [
        "df = pd.read_csv(\"boston-house-prices.csv\")"
      ]
    },
    {
      "cell_type": "code",
      "execution_count": null,
      "metadata": {
        "id": "IJdPVddsafIg"
      },
      "outputs": [],
      "source": [
        "df"
      ]
    },
    {
      "cell_type": "code",
      "execution_count": null,
      "metadata": {
        "id": "wmif9K503xWP"
      },
      "outputs": [],
      "source": [
        "print(df.isnull().sum())"
      ]
    },
    {
      "cell_type": "code",
      "execution_count": 11,
      "metadata": {
        "id": "6F0CibvEJPwc"
      },
      "outputs": [],
      "source": [
        "df[\"CRIM\"] = df[\"CRIM\"].fillna(value=df[\"CRIM\"].mean())\n",
        "df[\"ZN\"] = df[\"ZN\"].fillna(value=df[\"ZN\"].mean())\n",
        "df[\"INDUS\"] = df[\"INDUS\"].fillna(value=df[\"INDUS\"].mean())\n",
        "df[\"CHAS\"] = df[\"CHAS\"].fillna(value=df[\"CHAS\"].mean())\n",
        "df[\"AGE\"] = df[\"AGE\"].fillna(value=df[\"AGE\"].mean())\n",
        "df[\"LSTAT\"] = df[\"LSTAT\"].fillna(value=df[\"LSTAT\"].mean())"
      ]
    },
    {
      "cell_type": "code",
      "execution_count": 12,
      "metadata": {
        "id": "CkySHhtzFq46"
      },
      "outputs": [],
      "source": [
        "X = df.drop([\"MEDV\"], axis=1)\n",
        "Y = df[\"MEDV\"]"
      ]
    },
    {
      "cell_type": "code",
      "execution_count": 13,
      "metadata": {
        "id": "8lhpSTiR-IAz"
      },
      "outputs": [],
      "source": [
        "x_train, x_test, y_train, y_test = train_test_split(X, Y, test_size=0.2, random_state=42)"
      ]
    },
    {
      "cell_type": "code",
      "execution_count": null,
      "metadata": {
        "id": "7Mg2QGY8Bg4E"
      },
      "outputs": [],
      "source": [
        "boost_model=GradientBoostingRegressor(loss=\"squared_error\", n_estimators=100, learning_rate=0.1, criterion=\"friedman_mse\")\n",
        "boost_model.fit(X, Y)"
      ]
    },
    {
      "cell_type": "code",
      "execution_count": null,
      "metadata": {
        "id": "eqwTukr6C6TS"
      },
      "outputs": [],
      "source": [
        "y_predict = boost_model.predict(x_test)\n",
        "print(r2_score(y_test, y_predict))"
      ]
    }
  ],
  "metadata": {
    "colab": {
      "collapsed_sections": [],
      "name": "GradientBoosting.ipynb",
      "provenance": []
    },
    "kernelspec": {
      "display_name": "Python 3.10.5 64-bit",
      "language": "python",
      "name": "python3"
    },
    "language_info": {
      "name": "python",
      "version": "3.10.5"
    },
    "vscode": {
      "interpreter": {
        "hash": "17c9b079d698d6797df28b67fb636f9ca66cee8817b85e8ae679908c3c716f9e"
      }
    }
  },
  "nbformat": 4,
  "nbformat_minor": 0
}
