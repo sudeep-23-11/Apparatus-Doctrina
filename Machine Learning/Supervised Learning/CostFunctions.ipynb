{
 "cells": [
  {
   "cell_type": "code",
   "execution_count": null,
   "metadata": {},
   "outputs": [],
   "source": [
    "import random\n",
    "import math\n",
    "import numpy as np"
   ]
  },
  {
   "cell_type": "code",
   "execution_count": null,
   "metadata": {},
   "outputs": [],
   "source": [
    "from sklearn.metrics import mean_absolute_error\n",
    "from sklearn.metrics import mean_squared_error"
   ]
  },
  {
   "cell_type": "markdown",
   "metadata": {},
   "source": [
    "## Regression Cost Functions"
   ]
  },
  {
   "cell_type": "code",
   "execution_count": null,
   "metadata": {},
   "outputs": [],
   "source": [
    "X = []\n",
    "Y = []\n",
    "for i in range(100) :\n",
    "    X.append(random.randint(0, 99))\n",
    "    Y.append(random.randint(0, 99))\n",
    "X = np.array(X)\n",
    "Y = np.array(Y)\n",
    "print(X, Y, sep=\"\\n\")"
   ]
  },
  {
   "cell_type": "markdown",
   "metadata": {},
   "source": [
    "### Mean Absolute Error"
   ]
  },
  {
   "cell_type": "markdown",
   "metadata": {},
   "source": [
    "* Also known as L1 loss\n",
    "* Robust to negative error and outliers"
   ]
  },
  {
   "cell_type": "code",
   "execution_count": null,
   "metadata": {},
   "outputs": [],
   "source": [
    "mae = 0\n",
    "for i in range(100) :\n",
    "    mae += abs(X[i] - Y[i])\n",
    "mae /= 100\n",
    "print(mae)\n",
    "\n",
    "mae = mean_absolute_error(X, Y)\n",
    "print(mae)"
   ]
  },
  {
   "cell_type": "markdown",
   "metadata": {},
   "source": [
    "### Mean Squared Error"
   ]
  },
  {
   "cell_type": "markdown",
   "metadata": {},
   "source": [
    "* Also known as L2 loss\n",
    "* Robust to negative error and small deviations"
   ]
  },
  {
   "cell_type": "code",
   "execution_count": null,
   "metadata": {},
   "outputs": [],
   "source": [
    "mse = 0\n",
    "for i in range(100) :\n",
    "    mse += (X[i] - Y[i]) ** 2\n",
    "mse /= 100\n",
    "print(mse)\n",
    "\n",
    "mse = mean_squared_error(X, Y)\n",
    "print(mse)"
   ]
  },
  {
   "cell_type": "markdown",
   "metadata": {},
   "source": [
    "## Classification Cost Function"
   ]
  },
  {
   "cell_type": "code",
   "execution_count": null,
   "metadata": {},
   "outputs": [],
   "source": [
    "X = [0, 0, 1, 0, 0]\n",
    "Y = []\n",
    "for i in range(5) :\n",
    "    Y.append(random.random())\n",
    "X = np.array(X)\n",
    "Y = np.array(Y)\n",
    "print(X, Y, sep=\"\\n\")"
   ]
  },
  {
   "cell_type": "markdown",
   "metadata": {},
   "source": [
    "### Cross-Entropy Loss"
   ]
  },
  {
   "cell_type": "markdown",
   "metadata": {},
   "source": [
    "* Also known as Logarithmic loss, Log loss or Logistic loss"
   ]
  },
  {
   "cell_type": "code",
   "execution_count": null,
   "metadata": {},
   "outputs": [],
   "source": [
    "cel = 0\n",
    "for i in range(5) :\n",
    "    cel -= X[i] * math.log(Y[i])\n",
    "print(cel)"
   ]
  },
  {
   "cell_type": "markdown",
   "metadata": {},
   "source": [
    "### KL Divergence Loss"
   ]
  },
  {
   "cell_type": "markdown",
   "metadata": {},
   "source": [
    "* Also known as Kullback-Leibler Divergence score or KL Divergence score\n",
    "* Represents difference between cross-entropy and entropy\n",
    "* Not symmetric"
   ]
  },
  {
   "cell_type": "code",
   "execution_count": null,
   "metadata": {},
   "outputs": [],
   "source": [
    "kll = 0\n",
    "for i in range(5) :\n",
    "    if X[i] != 0 :\n",
    "        kll += X[i] * math.log(X[i] / Y[i])\n",
    "print(kll)"
   ]
  }
 ],
 "metadata": {
  "kernelspec": {
   "display_name": "Python 3.10.5 64-bit",
   "language": "python",
   "name": "python3"
  },
  "language_info": {
   "codemirror_mode": {
    "name": "ipython",
    "version": 3
   },
   "file_extension": ".py",
   "mimetype": "text/x-python",
   "name": "python",
   "nbconvert_exporter": "python",
   "pygments_lexer": "ipython3",
   "version": "3.10.5"
  },
  "orig_nbformat": 4,
  "vscode": {
   "interpreter": {
    "hash": "17c9b079d698d6797df28b67fb636f9ca66cee8817b85e8ae679908c3c716f9e"
   }
  }
 },
 "nbformat": 4,
 "nbformat_minor": 2
}
