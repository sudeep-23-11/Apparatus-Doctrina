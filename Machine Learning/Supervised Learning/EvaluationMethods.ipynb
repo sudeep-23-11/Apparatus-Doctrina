{
 "cells": [
  {
   "cell_type": "markdown",
   "metadata": {},
   "source": [
    "### Holdout Set"
   ]
  },
  {
   "cell_type": "markdown",
   "metadata": {},
   "source": [
    "* Used when the data is large\n",
    "* Divide the data into two disjoint subsets, training set and test set\n",
    "* Train the model using training set\n",
    "* Test the model using test set"
   ]
  },
  {
   "cell_type": "markdown",
   "metadata": {},
   "source": [
    "### N-Fold Cross-Validation"
   ]
  },
  {
   "cell_type": "markdown",
   "metadata": {},
   "source": [
    "* Used when the data is small\n",
    "* Divide the data into N equal-size disjoint subsets\n",
    "* Take one of them as test data and remaining N-1 sets as training data\n",
    "* Do above step N times, each time with different set as test data and obtain N different accuracies\n",
    "* Take average of all these accuracies"
   ]
  },
  {
   "cell_type": "markdown",
   "metadata": {},
   "source": [
    "### Leave-One-Out Cross-Validation"
   ]
  },
  {
   "cell_type": "markdown",
   "metadata": {},
   "source": [
    "* Used when the data is very small\n",
    "* Divide the data into N instances\n",
    "* Take one of them as test data and remaining N-1 instances as training data\n",
    "* Do above step N times, each time with different instance as test data and obtain N different accuracies\n",
    "* Take average of all these accuracies"
   ]
  },
  {
   "cell_type": "markdown",
   "metadata": {},
   "source": [
    "### Validation Set"
   ]
  },
  {
   "cell_type": "markdown",
   "metadata": {},
   "source": [
    "* Used when data is very large\n",
    "* Divide the data into three disjoint subsets, training set, validation set and test set\n",
    "* Train the model using training set\n",
    "* Do hyperparameter tunning using validation set and move forward with best values of hyperparameters\n",
    "* Test the model using test set"
   ]
  }
 ],
 "metadata": {
  "kernelspec": {
   "display_name": "Python 3.10.5 64-bit",
   "language": "python",
   "name": "python3"
  },
  "language_info": {
   "name": "python",
   "version": "3.10.5"
  },
  "orig_nbformat": 4,
  "vscode": {
   "interpreter": {
    "hash": "17c9b079d698d6797df28b67fb636f9ca66cee8817b85e8ae679908c3c716f9e"
   }
  }
 },
 "nbformat": 4,
 "nbformat_minor": 2
}
