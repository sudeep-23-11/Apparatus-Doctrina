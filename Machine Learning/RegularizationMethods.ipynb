{
 "cells": [
  {
   "cell_type": "markdown",
   "metadata": {},
   "source": [
    "### Augmentation"
   ]
  },
  {
   "cell_type": "markdown",
   "metadata": {},
   "source": [
    "* Artificially increase the amount of data by generating new data points from existing data\n",
    "* Methods - padding, random rotating, re-scaling, vertical & horizontal flipping, translation, cropping, zooming, darkening & brightening, grayscaling, changing contrast, adding noise, random erasing"
   ]
  },
  {
   "cell_type": "markdown",
   "metadata": {},
   "source": [
    "### Early Stopping"
   ]
  },
  {
   "cell_type": "markdown",
   "metadata": {},
   "source": [
    "* Stop training before a model starts to overfit\n",
    "* Methods - train on preset number of epochs, stop when the loss function update becomes small, validation set"
   ]
  },
  {
   "cell_type": "markdown",
   "metadata": {},
   "source": [
    "### L1 Regularization"
   ]
  },
  {
   "cell_type": "markdown",
   "metadata": {},
   "source": [
    "* Also known as Lasso Regression\n",
    "* Used when some features are not important for outptut, it assigns zero weight to them\n",
    "* Robust to outliers\n",
    "* Loss = Error(y_actual, y_predict) + λ * Σ(|w|)"
   ]
  },
  {
   "cell_type": "markdown",
   "metadata": {},
   "source": [
    "### L2 Regularization"
   ]
  },
  {
   "cell_type": "markdown",
   "metadata": {},
   "source": [
    "* Also known as Ridge Regression\n",
    "* Used when all features are important for outptut, it assigns roughly equal size weights to them\n",
    "* Loss = Error(y_actual, y_predict) + λ * Σ(w * w)"
   ]
  },
  {
   "cell_type": "markdown",
   "metadata": {},
   "source": [
    "### Ensemble Learning"
   ]
  },
  {
   "cell_type": "markdown",
   "metadata": {},
   "source": [
    "* Allow a set of models to learn from the data and take majority vote\n",
    "* Methods - vary training data, vary ensemble models, vary combination of outcomes"
   ]
  },
  {
   "cell_type": "markdown",
   "metadata": {},
   "source": [
    "### Dropout"
   ]
  },
  {
   "cell_type": "markdown",
   "metadata": {},
   "source": [
    "* Initialize the weights of network\n",
    "* Divide the data into several subsets \n",
    "* For each subset, temporarily drop some nodes and their corresponding incoming and outgoing connections, resulting in thinned network\n",
    "* Compute the loss and backpropagate for only weights of active nodes in the thinned network\n",
    "* For test data, use full network"
   ]
  }
 ],
 "metadata": {
  "kernelspec": {
   "display_name": "Python 3.10.6 64-bit",
   "language": "python",
   "name": "python3"
  },
  "language_info": {
   "name": "python",
   "version": "3.10.6"
  },
  "orig_nbformat": 4,
  "vscode": {
   "interpreter": {
    "hash": "26de051ba29f2982a8de78e945f0abaf191376122a1563185a90213a26c5da77"
   }
  }
 },
 "nbformat": 4,
 "nbformat_minor": 2
}
