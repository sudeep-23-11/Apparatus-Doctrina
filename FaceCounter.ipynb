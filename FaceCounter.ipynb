{
  "nbformat": 4,
  "nbformat_minor": 0,
  "metadata": {
    "colab": {
      "name": "FaceCounter.ipynb",
      "provenance": [],
      "collapsed_sections": []
    },
    "kernelspec": {
      "name": "python3",
      "display_name": "Python 3"
    },
    "language_info": {
      "name": "python"
    }
  },
  "cells": [
    {
      "cell_type": "code",
      "metadata": {
        "id": "5m0wEwF8Gp2l"
      },
      "source": [
        "import cv2\n",
        "from google.colab.patches import cv2_imshow"
      ],
      "execution_count": 1,
      "outputs": []
    },
    {
      "cell_type": "code",
      "metadata": {
        "id": "Ec5FYvF9Ok3W"
      },
      "source": [
        "from IPython.display import display, Javascript\n",
        "from google.colab.output import eval_js\n",
        "from base64 import b64decode\n",
        "\n",
        "def take_photo(filename='photo.jpg', quality=0.8):\n",
        "  js = Javascript('''\n",
        "    async function takePhoto(quality) {\n",
        "      const div = document.createElement('div');\n",
        "      const capture = document.createElement('button');\n",
        "      capture.textContent = 'Capture';\n",
        "      div.appendChild(capture);\n",
        "\n",
        "      const video = document.createElement('video');\n",
        "      video.style.display = 'block';\n",
        "      const stream = await navigator.mediaDevices.getUserMedia({video: true});\n",
        "\n",
        "      document.body.appendChild(div);\n",
        "      div.appendChild(video);\n",
        "      video.srcObject = stream;\n",
        "      await video.play();\n",
        "\n",
        "      google.colab.output.setIframeHeight(document.documentElement.scrollHeight, true);\n",
        "\n",
        "      await new Promise((resolve) => capture.onclick = resolve);\n",
        "\n",
        "      const canvas = document.createElement('canvas');\n",
        "      canvas.width = video.videoWidth;\n",
        "      canvas.height = video.videoHeight;\n",
        "      canvas.getContext('2d').drawImage(video, 0, 0);\n",
        "      stream.getVideoTracks()[0].stop();\n",
        "      div.remove();\n",
        "      return canvas.toDataURL('image/jpeg', quality);\n",
        "    }\n",
        "    ''')\n",
        "  display(js)\n",
        "  data = eval_js('takePhoto({})'.format(quality))\n",
        "  binary = b64decode(data.split(',')[1])\n",
        "  with open(filename, 'wb') as f:\n",
        "    f.write(binary)\n",
        "  return filename"
      ],
      "execution_count": 8,
      "outputs": []
    },
    {
      "cell_type": "code",
      "metadata": {
        "id": "uzhOHrHxOk3e"
      },
      "source": [
        "from IPython.display import Image\n",
        "try:\n",
        "  filename = take_photo()\n",
        "  print('Saved to {}'.format(filename))\n",
        "  \n",
        "  display(Image(filename))\n",
        "except Exception as err:\n",
        "  print(str(err))"
      ],
      "execution_count": null,
      "outputs": []
    },
    {
      "cell_type": "code",
      "metadata": {
        "id": "BJmfv-09LvHm"
      },
      "source": [
        "def detect_faces(path) :\n",
        "  face_cascade=cv2.CascadeClassifier('haarcascade_face.xml')\n",
        "  img=cv2.imread(path)\n",
        "  cv2_imshow(img)\n",
        "\n",
        "  gray=cv2.cvtColor(img, cv2.COLOR_RGB2GRAY)\n",
        "  cv2_imshow(gray)\n",
        "\n",
        "  faces=face_cascade.detectMultiScale(gray)\n",
        "  print(faces)\n",
        "\n",
        "  for (x, y, w, h) in faces:\n",
        "    cv2.rectangle(img, (x, y), (x+w, y+h), (255, 0, 0), 2)\n",
        "  cv2_imshow(img)"
      ],
      "execution_count": 10,
      "outputs": []
    },
    {
      "cell_type": "code",
      "metadata": {
        "id": "rs_SVRum8Y6l"
      },
      "source": [
        "def detect_eyes(path) :\n",
        "  eye_cascade=cv2.CascadeClassifier('haarcascade_eye.xml')\n",
        "  img=cv2.imread(path)\n",
        "  cv2_imshow(img)\n",
        "\n",
        "  gray=cv2.cvtColor(img, cv2.COLOR_RGB2GRAY)\n",
        "  cv2_imshow(gray)\n",
        "\n",
        "  eyes=eye_cascade.detectMultiScale(gray)\n",
        "  print(eyes)\n",
        "  \n",
        "  for (x, y, w, h) in eyes:\n",
        "    cv2.rectangle(img, (x, y), (x+w, y+h), (255, 0, 0), 2)\n",
        "  cv2_imshow(img)"
      ],
      "execution_count": 11,
      "outputs": []
    },
    {
      "cell_type": "code",
      "metadata": {
        "id": "8NGiT3hfPrDQ"
      },
      "source": [
        "detect_faces('photo.jpg')"
      ],
      "execution_count": null,
      "outputs": []
    },
    {
      "cell_type": "code",
      "metadata": {
        "id": "f5RzUlYN8u8V"
      },
      "source": [
        "detect_eyes('photo.jpg')"
      ],
      "execution_count": null,
      "outputs": []
    },
    {
      "cell_type": "code",
      "metadata": {
        "id": "lC3DhgXqPxHw"
      },
      "source": [
        "detect_faces('photos.jpg')"
      ],
      "execution_count": null,
      "outputs": []
    },
    {
      "cell_type": "code",
      "metadata": {
        "id": "m74SKZp39Qbd"
      },
      "source": [
        "detect_eyes('photos.jpg')"
      ],
      "execution_count": null,
      "outputs": []
    }
  ]
}