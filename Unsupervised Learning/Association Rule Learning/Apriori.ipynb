{
  "nbformat": 4,
  "nbformat_minor": 0,
  "metadata": {
    "colab": {
      "name": "AprioriAlgorithm.ipynb",
      "provenance": [],
      "collapsed_sections": []
    },
    "kernelspec": {
      "name": "python3",
      "display_name": "Python 3"
    },
    "language_info": {
      "name": "python"
    }
  },
  "cells": [
    {
      "cell_type": "code",
      "metadata": {
        "id": "IJtt_KEI9Kuo"
      },
      "source": [
        "import pandas as pd"
      ],
      "execution_count": 68,
      "outputs": []
    },
    {
      "cell_type": "code",
      "metadata": {
        "id": "fba3jBpA_pCS"
      },
      "source": [
        "from mlxtend.frequent_patterns import apriori\n",
        "from mlxtend.frequent_patterns import association_rules"
      ],
      "execution_count": 69,
      "outputs": []
    },
    {
      "cell_type": "code",
      "metadata": {
        "id": "JTuOrzW0_4QU"
      },
      "source": [
        "df=pd.read_csv('online_retail.csv', encoding='unicode_escape')\n",
        "df"
      ],
      "execution_count": null,
      "outputs": []
    },
    {
      "cell_type": "code",
      "metadata": {
        "id": "8pVvhdPaSFSE"
      },
      "source": [
        "df.isnull().sum()"
      ],
      "execution_count": null,
      "outputs": []
    },
    {
      "cell_type": "code",
      "metadata": {
        "id": "zP4d1CzeWZhk"
      },
      "source": [
        "df['Description']=df['Description'].str.strip()"
      ],
      "execution_count": 72,
      "outputs": []
    },
    {
      "cell_type": "code",
      "metadata": {
        "id": "9ruwDSZXBaFB"
      },
      "source": [
        "df.dropna(axis=0, subset=['InvoiceNo'], inplace=True)\n",
        "df['InvoiceNo']=df['InvoiceNo'].astype('str')\n",
        "df=df[~df['InvoiceNo'].str.contains('C')]"
      ],
      "execution_count": 73,
      "outputs": []
    },
    {
      "cell_type": "code",
      "metadata": {
        "id": "RpnVKFOcUerU"
      },
      "source": [
        "df['Country'].unique()"
      ],
      "execution_count": null,
      "outputs": []
    },
    {
      "cell_type": "code",
      "metadata": {
        "id": "JcDyzi4NETYk"
      },
      "source": [
        "basket=(df[df['Country']=='France'].groupby(['InvoiceNo', 'Description'])['Quantity']\n",
        "       .sum().unstack().reset_index().fillna(value=0).set_index('InvoiceNo'))\n",
        "basket"
      ],
      "execution_count": null,
      "outputs": []
    },
    {
      "cell_type": "code",
      "metadata": {
        "id": "uv8UQtzUHuVW"
      },
      "source": [
        "def encode_units(x) :\n",
        "  if x<=0 :\n",
        "    return 0\n",
        "  elif x>=1 :\n",
        "    return 1"
      ],
      "execution_count": 76,
      "outputs": []
    },
    {
      "cell_type": "code",
      "metadata": {
        "id": "-gWDiEO1VE-D"
      },
      "source": [
        "basket=basket.applymap(encode_units)\n",
        "basket"
      ],
      "execution_count": null,
      "outputs": []
    },
    {
      "cell_type": "code",
      "metadata": {
        "id": "VuGnzUg3FXCo"
      },
      "source": [
        "frequent_itemsets=apriori(basket, min_support=0.1, use_colnames=True)\n",
        "rules=association_rules(frequent_itemsets, metric='lift', min_threshold=1)\n",
        "rules"
      ],
      "execution_count": null,
      "outputs": []
    }
  ]
}