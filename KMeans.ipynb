{
  "nbformat": 4,
  "nbformat_minor": 0,
  "metadata": {
    "colab": {
      "name": "KMeans.ipynb",
      "provenance": [],
      "collapsed_sections": []
    },
    "kernelspec": {
      "name": "python3",
      "display_name": "Python 3"
    },
    "language_info": {
      "name": "python"
    }
  },
  "cells": [
    {
      "cell_type": "code",
      "metadata": {
        "id": "v7ZKsmOmGj2I"
      },
      "source": [
        "import pandas as pd\n",
        "import numpy as np\n",
        "import matplotlib.pyplot as plt"
      ],
      "execution_count": 22,
      "outputs": []
    },
    {
      "cell_type": "code",
      "metadata": {
        "id": "kN7muBiDH4Sh"
      },
      "source": [
        "from sklearn.preprocessing import MinMaxScaler\n",
        "from sklearn.cluster import KMeans"
      ],
      "execution_count": 23,
      "outputs": []
    },
    {
      "cell_type": "code",
      "metadata": {
        "id": "ra6ASfSxJYHo"
      },
      "source": [
        "df=pd.read_csv('headbrain.csv')\n",
        "df"
      ],
      "execution_count": null,
      "outputs": []
    },
    {
      "cell_type": "code",
      "metadata": {
        "id": "mwhIo2hfPzEt"
      },
      "source": [
        "df.drop(['Gender', 'Age Range'], axis=1, inplace=True)"
      ],
      "execution_count": 25,
      "outputs": []
    },
    {
      "cell_type": "code",
      "metadata": {
        "id": "7GK6cqOcMach"
      },
      "source": [
        "X=df['Head Size(cm^3)'].to_numpy()\n",
        "Y=df['Brain Weight(grams)'].to_numpy()"
      ],
      "execution_count": 26,
      "outputs": []
    },
    {
      "cell_type": "code",
      "metadata": {
        "id": "NoQShw5_Mg3O"
      },
      "source": [
        "X=np.reshape(X, (-1, 1))\n",
        "Y=np.reshape(Y, (-1, 1))"
      ],
      "execution_count": 27,
      "outputs": []
    },
    {
      "cell_type": "code",
      "metadata": {
        "id": "yFoIasPVJfQa"
      },
      "source": [
        "scale=MinMaxScaler()\n",
        "X=scale.fit_transform(X)\n",
        "Y=scale.fit_transform(Y)"
      ],
      "execution_count": 28,
      "outputs": []
    },
    {
      "cell_type": "code",
      "metadata": {
        "id": "N0Q99rggL6yA"
      },
      "source": [
        "model=KMeans(n_clusters=3)\n",
        "cluster=model.fit_predict(X, Y)"
      ],
      "execution_count": 29,
      "outputs": []
    },
    {
      "cell_type": "code",
      "metadata": {
        "id": "_FN0ejvgO4J4"
      },
      "source": [
        "print(model.cluster_centers_)\n",
        "print(model.labels_)"
      ],
      "execution_count": null,
      "outputs": []
    },
    {
      "cell_type": "code",
      "metadata": {
        "id": "dlvO2aHWOr9i"
      },
      "source": [
        "df['Cluster']=cluster\n",
        "df1=df[df.Cluster==0]\n",
        "df2=df[df.Cluster==1]\n",
        "df3=df[df.Cluster==2]"
      ],
      "execution_count": 31,
      "outputs": []
    },
    {
      "cell_type": "code",
      "metadata": {
        "id": "Fce7hv30QRT3"
      },
      "source": [
        "plt.scatter(df1['Head Size(cm^3)'], df1['Brain Weight(grams)'], color='r', label='Cluster 1')\n",
        "plt.scatter(df2['Head Size(cm^3)'], df2['Brain Weight(grams)'], color='b', label='Cluster 2')\n",
        "plt.scatter(df3['Head Size(cm^3)'], df3['Brain Weight(grams)'], color='g', label='Cluster 3')\n",
        "plt.xlabel('Head Size(cm^3)')\n",
        "plt.ylabel('Brain Weight(grams)')\n",
        "plt.title('Head Size Vs Brain Weight')\n",
        "plt.grid()\n",
        "plt.legend()\n",
        "plt.show()"
      ],
      "execution_count": null,
      "outputs": []
    }
  ]
}