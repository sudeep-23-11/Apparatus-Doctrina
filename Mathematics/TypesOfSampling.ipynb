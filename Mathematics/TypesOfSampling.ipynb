{
  "nbformat": 4,
  "nbformat_minor": 0,
  "metadata": {
    "colab": {
      "name": "TypesOfSampling.ipynb",
      "provenance": [],
      "collapsed_sections": []
    },
    "kernelspec": {
      "name": "python3",
      "display_name": "Python 3"
    },
    "language_info": {
      "name": "python"
    }
  },
  "cells": [
    {
      "cell_type": "code",
      "source": [
        "#TypesOfSampling\n",
        "import random"
      ],
      "metadata": {
        "id": "H4Wco0CKODS5"
      },
      "execution_count": 40,
      "outputs": []
    },
    {
      "cell_type": "code",
      "source": [
        "#Population\n",
        "P=[]\n",
        "for i in range(100) :\n",
        "  P.append(random.randint(0, 999))\n",
        "print(P)"
      ],
      "metadata": {
        "id": "qhn7MVt8OcQQ"
      },
      "execution_count": null,
      "outputs": []
    },
    {
      "cell_type": "code",
      "execution_count": null,
      "metadata": {
        "id": "jF4I-Y6GNPO7"
      },
      "outputs": [],
      "source": [
        "#Random Sampling\n",
        "S=[]\n",
        "for i in range(10) :\n",
        "  S.append(P[random.randint(0, 99)])\n",
        "print(S)"
      ]
    },
    {
      "cell_type": "code",
      "source": [
        "#Systematic Sampling\n",
        "S=[]\n",
        "c=9\n",
        "for i in range(10) :\n",
        "  S.append(P[c])\n",
        "  c+=10\n",
        "print(S)"
      ],
      "metadata": {
        "id": "AA0gd5NaNgym"
      },
      "execution_count": null,
      "outputs": []
    },
    {
      "cell_type": "code",
      "source": [
        "#Stratified Sampling\n",
        "E=[]\n",
        "O=[]\n",
        "for i in range(100) :\n",
        "  if P[i]%2==0 :\n",
        "    E.append(P[i])\n",
        "  else :\n",
        "    O.append(P[i])\n",
        "S=[]\n",
        "for i in range(5) :\n",
        "  S.append(E[random.randint(0, (len(E)-1))])\n",
        "for i in range(5) :\n",
        "  S.append(O[random.randint(0, (len(O)-1))])\n",
        "print(S)"
      ],
      "metadata": {
        "id": "ZfBIp698NhG3"
      },
      "execution_count": null,
      "outputs": []
    }
  ]
}