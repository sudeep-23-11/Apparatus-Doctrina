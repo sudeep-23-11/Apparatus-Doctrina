{
  "nbformat": 4,
  "nbformat_minor": 0,
  "metadata": {
    "colab": {
      "name": "DataVisualization.ipynb",
      "provenance": [],
      "collapsed_sections": []
    },
    "kernelspec": {
      "name": "python3",
      "display_name": "Python 3"
    },
    "language_info": {
      "name": "python"
    }
  },
  "cells": [
    {
      "cell_type": "code",
      "metadata": {
        "id": "vszA5IVZlv0u"
      },
      "source": [
        "import numpy as np\n",
        "import pandas as pd\n",
        "import matplotlib.pyplot as plt\n",
        "import seaborn as sb\n",
        "%matplotlib inline"
      ],
      "execution_count": 1,
      "outputs": []
    },
    {
      "cell_type": "code",
      "metadata": {
        "id": "cqVgjULapL0X"
      },
      "source": [
        "flights=pd.read_csv('/content/flights_data.csv')\n",
        "print(flights.shape)\n",
        "flights.head()"
      ],
      "execution_count": null,
      "outputs": []
    },
    {
      "cell_type": "code",
      "metadata": {
        "id": "HeuoujUxpcr-"
      },
      "source": [
        "sb.countplot(data=flights, x='Source')\n",
        "plt.ylabel('Number of Flights', fontsize=12)\n",
        "plt.xlabel('Source', fontsize=12)"
      ],
      "execution_count": null,
      "outputs": []
    },
    {
      "cell_type": "code",
      "metadata": {
        "id": "NcsuIQz1qiC-"
      },
      "source": [
        "base_color=sb.color_palette()[0]\n",
        "sb.countplot(data=flights, x='Source', color=base_color)\n",
        "plt.xticks(rotation=30)"
      ],
      "execution_count": null,
      "outputs": []
    },
    {
      "cell_type": "code",
      "metadata": {
        "id": "YJIK_DLkrbgX"
      },
      "source": [
        "base_color=sb.color_palette()[1]\n",
        "gen_order=flights['Source'].value_counts().index\n",
        "sb.countplot(data=flights, x='Source', color=base_color, order=gen_order)"
      ],
      "execution_count": null,
      "outputs": []
    },
    {
      "cell_type": "code",
      "metadata": {
        "id": "8tbaeoM-sEto"
      },
      "source": [
        "base_color=sb.color_palette()[2]\n",
        "sb.countplot(data=flights, x='Airline', color=base_color)"
      ],
      "execution_count": null,
      "outputs": []
    },
    {
      "cell_type": "code",
      "metadata": {
        "id": "y3t_2Z2YsaMm"
      },
      "source": [
        "base_color=sb.color_palette()[2]\n",
        "sb.countplot(data=flights, x='Airline', color=base_color)\n",
        "plt.xticks(rotation=90)"
      ],
      "execution_count": null,
      "outputs": []
    },
    {
      "cell_type": "code",
      "metadata": {
        "id": "Gnc-dnDEsx94"
      },
      "source": [
        "base_color=sb.color_palette()[2]\n",
        "sb.countplot(data=flights, y='Airline', color=base_color)"
      ],
      "execution_count": null,
      "outputs": []
    },
    {
      "cell_type": "code",
      "metadata": {
        "id": "qE2ErmLOtOKI"
      },
      "source": [
        "flights.isna().sum()"
      ],
      "execution_count": null,
      "outputs": []
    },
    {
      "cell_type": "code",
      "metadata": {
        "id": "GaukI3edtkz3"
      },
      "source": [
        "na_counts=flights.isna().sum()\n",
        "base_color=sb.color_palette()[0]\n",
        "sb.barplot(na_counts.index.values, na_counts, color=base_color)\n",
        "plt.xticks(rotation=90)\n",
        "plt.ylabel('Number of missing values', fontsize=12)"
      ],
      "execution_count": null,
      "outputs": []
    },
    {
      "cell_type": "code",
      "metadata": {
        "id": "I66x4kkvuYA5"
      },
      "source": [
        "sorted_counts=flights['Destination'].value_counts()\n",
        "plt.pie(sorted_counts, labels=sorted_counts.index, startangle=90, counterclock=False)\n",
        "plt.axis('square')\n",
        "plt.title('Flight Destination\\'s')"
      ],
      "execution_count": null,
      "outputs": []
    },
    {
      "cell_type": "code",
      "metadata": {
        "id": "2VNQq0dlvYPx"
      },
      "source": [
        "sorted_counts=flights['Destination'].value_counts()\n",
        "plt.pie(sorted_counts, labels=sorted_counts.index, startangle=90, counterclock=False, wedgeprops={'width' : 0.4})\n",
        "plt.axis('square')"
      ],
      "execution_count": null,
      "outputs": []
    },
    {
      "cell_type": "code",
      "metadata": {
        "id": "lwAUHFuExL-e"
      },
      "source": [
        "plt.hist(data=flights, x='Duration(minutes)')"
      ],
      "execution_count": null,
      "outputs": []
    },
    {
      "cell_type": "code",
      "metadata": {
        "id": "Ix6jDUrDxYIJ"
      },
      "source": [
        "plt.hist(data=flights, x='Price', bins=20)"
      ],
      "execution_count": null,
      "outputs": []
    },
    {
      "cell_type": "code",
      "metadata": {
        "id": "HvJ7Z1i_xv8Q"
      },
      "source": [
        "bins=np.arange(0, flights['Price'].max()+1, 1200)\n",
        "plt.hist(data=flights, x='Price', bins=bins)\n",
        "plt.show()"
      ],
      "execution_count": null,
      "outputs": []
    },
    {
      "cell_type": "code",
      "metadata": {
        "id": "IlMPiNkayLUZ"
      },
      "source": [
        "sb.distplot(flights['Price'])"
      ],
      "execution_count": null,
      "outputs": []
    },
    {
      "cell_type": "code",
      "metadata": {
        "id": "6rB9H53KyWon"
      },
      "source": [
        "sb.distplot(flights['Price'], kde=False)"
      ],
      "execution_count": null,
      "outputs": []
    },
    {
      "cell_type": "code",
      "metadata": {
        "id": "hIoxXKEEyise"
      },
      "source": [
        "bins_edges=np.arange(0, flights['Price'].max()+1, 1200)\n",
        "sb.distplot(flights['Price'], bins=bins_edges, kde=False, hist_kws={'alpha' : 1})"
      ],
      "execution_count": null,
      "outputs": []
    }
  ]
}