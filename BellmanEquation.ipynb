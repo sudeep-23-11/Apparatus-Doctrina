{
  "nbformat": 4,
  "nbformat_minor": 0,
  "metadata": {
    "colab": {
      "name": "BellmanEquation.ipynb",
      "provenance": [],
      "collapsed_sections": []
    },
    "kernelspec": {
      "name": "python3",
      "display_name": "Python 3"
    },
    "language_info": {
      "name": "python"
    }
  },
  "cells": [
    {
      "cell_type": "code",
      "metadata": {
        "id": "_6__2bFM-Ssp"
      },
      "source": [
        "import numpy as np"
      ],
      "execution_count": 149,
      "outputs": []
    },
    {
      "cell_type": "code",
      "metadata": {
        "id": "0cFjX5gyJwKf"
      },
      "source": [
        "R=np.array([[0, 1, 0, 0, 0, 0, 0, 0, 0],\n",
        "            [1, 0, 1, 0, 0, 0, 0, 0, 0],\n",
        "            [0, 1, 0, 0, 0, 1, 0, 0, 0],\n",
        "            [0, 0, 0, 0, 0, 0, 1, 0, 0],\n",
        "            [0, 1, 0, 0, 0, 0, 0, 1, 0],\n",
        "            [0, 0, 1, 0, 0, 0, 0, 0, 0],\n",
        "            [0, 0, 0, 1, 0, 0, 0, 1, 0],\n",
        "            [0, 0, 0, 0, 1, 0, 1, 0, 1],\n",
        "            [0, 0, 0, 0, 0, 0, 0, 1, 0]])"
      ],
      "execution_count": 150,
      "outputs": []
    },
    {
      "cell_type": "code",
      "metadata": {
        "id": "ojRKYyieMGPg"
      },
      "source": [
        "Q=np.zeros((9, 9))\n",
        "gamma=0.75\n",
        "alpha=0.9"
      ],
      "execution_count": 151,
      "outputs": []
    },
    {
      "cell_type": "code",
      "metadata": {
        "id": "inK-Ptx4Mg0N"
      },
      "source": [
        "def avaliable_actions(state) :\n",
        "  lis1=R[state, :]\n",
        "  lis2=[]\n",
        "  for i, v in enumerate(lis1) :\n",
        "    if v>0 :\n",
        "      lis2.append(i)\n",
        "  return lis2"
      ],
      "execution_count": 152,
      "outputs": []
    },
    {
      "cell_type": "code",
      "metadata": {
        "id": "XKWV3VHqPJVu"
      },
      "source": [
        "def next_action(actions) :\n",
        "  a=int(np.random.choice(actions, size=1))\n",
        "  return a"
      ],
      "execution_count": 153,
      "outputs": []
    },
    {
      "cell_type": "code",
      "metadata": {
        "id": "AIPQELARxoWk"
      },
      "source": [
        "def update_Qmatrix(state, action) :\n",
        "  lis1=avaliable_actions(action)\n",
        "  lis2=[]\n",
        "  for i in lis1 :\n",
        "    lis2.append(Q[action, i])\n",
        "    maxValue=max(lis2)\n",
        "  TD=R[state, action]+(gamma*maxValue)-Q[state, action]\n",
        "  Q[state, action]+=(alpha*TD)"
      ],
      "execution_count": 154,
      "outputs": []
    },
    {
      "cell_type": "code",
      "metadata": {
        "id": "4SLB1CK-Od9k"
      },
      "source": [
        "def optimal_path(start, end) :\n",
        "  R[end, end]=999\n",
        "  for i in range(0, 10000, 1) :\n",
        "    currentState=np.random.randint(0, 9)\n",
        "    avaliableActions=avaliable_actions(currentState)\n",
        "    nextAction=next_action(avaliableActions)\n",
        "    update_Qmatrix(currentState, nextAction)\n",
        "  path=[start]\n",
        "  while start!=end :\n",
        "    lis=avaliable_actions(start)\n",
        "    maxIndex=lis[0]\n",
        "    for i in lis :\n",
        "      if Q[start][i]>Q[start][maxIndex] :\n",
        "        maxIndex=i\n",
        "    start=maxIndex\n",
        "    path.append(start)\n",
        "  print(path)"
      ],
      "execution_count": 155,
      "outputs": []
    },
    {
      "cell_type": "code",
      "metadata": {
        "id": "UUfBGuN0v9_t"
      },
      "source": [
        "optimal_path(8, 0)"
      ],
      "execution_count": null,
      "outputs": []
    }
  ]
}