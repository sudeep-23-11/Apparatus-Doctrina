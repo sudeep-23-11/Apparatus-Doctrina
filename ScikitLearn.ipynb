{
  "cells": [
    {
      "cell_type": "code",
      "execution_count": 1,
      "metadata": {
        "id": "UtxxlGIyt7VQ"
      },
      "outputs": [],
      "source": [
        "from sklearn.preprocessing import LabelEncoder\n",
        "# A    1\n",
        "# B => 2\n",
        "# C    3\n",
        "\n",
        "from sklearn.preprocessing import OneHotEncoder\n",
        "#      A B C\n",
        "# A    1 0 0\n",
        "# B => 0 1 0\n",
        "# C    0 0 1"
      ]
    },
    {
      "cell_type": "code",
      "execution_count": 2,
      "metadata": {
        "id": "Kdo2U3QS4-Uy"
      },
      "outputs": [],
      "source": [
        "from sklearn.utils import shuffle\n",
        "# for shuffling the records\n",
        "\n",
        "from sklearn.utils import resample\n",
        "# for under sampling the majority class records\n",
        "# for over sampling the minority class records"
      ]
    },
    {
      "cell_type": "code",
      "execution_count": 3,
      "metadata": {
        "id": "8UUNNPGwq2Fo"
      },
      "outputs": [],
      "source": [
        "from sklearn.model_selection import train_test_split"
      ]
    },
    {
      "cell_type": "code",
      "execution_count": 4,
      "metadata": {
        "id": "6Y72PjL0pe6S"
      },
      "outputs": [],
      "source": [
        "from sklearn.preprocessing import StandardScaler\n",
        "# scales column values such that mean=0 and variance=1\n",
        "# if data distribution is normal\n",
        "\n",
        "from sklearn.preprocessing import MinMaxScaler\n",
        "# scales column values to the range [0, 1]\n",
        "\n",
        "from sklearn.preprocessing import MaxAbsScaler\n",
        "# scales column values such that maximum absolute value=1\n",
        "\n",
        "from sklearn.preprocessing import RobustScaler\n",
        "# if outliers are present\n",
        "\n",
        "from sklearn.preprocessing import Normalizer\n",
        "# scales row values such that norm=1"
      ]
    },
    {
      "cell_type": "code",
      "execution_count": 5,
      "metadata": {
        "id": "1AYMpiElhkan"
      },
      "outputs": [],
      "source": [
        "from sklearn.metrics import r2_score\n",
        "# = 1-(ss_e/ss_t) = ss_r/ss_t\n",
        "\n",
        "from sklearn.metrics import mean_absolute_error\n",
        "# = mean(abs(A-P))\n",
        "\n",
        "from sklearn.metrics import median_absolute_error\n",
        "# = median(abs(A-P))\n",
        "\n",
        "from sklearn.metrics import mean_absolute_percentage_error\n",
        "# = mean(abs((A-P)/A))*100\n",
        "\n",
        "from sklearn.metrics import mean_squared_error\n",
        "# = mean(square(A-P))\n",
        "\n",
        "from sklearn.metrics import mean_squared_log_error\n",
        "# = mean(square(log(A+1)-log(P+1)))"
      ]
    },
    {
      "cell_type": "code",
      "execution_count": 6,
      "metadata": {
        "id": "EXamZ-IZpbTS"
      },
      "outputs": [],
      "source": [
        "from sklearn.metrics import accuracy_score\n",
        "# = (tp+tn)/(tp+tn+fp+fn)\n",
        "\n",
        "from sklearn.metrics import precision_score\n",
        "# = tp/(tp+fp)\n",
        "\n",
        "from sklearn.metrics import recall_score\n",
        "# = tp/(tp+fn)\n",
        "\n",
        "from sklearn.metrics import f1_score\n",
        "# = (2*ps*rs)/(ps+rs)"
      ]
    },
    {
      "cell_type": "code",
      "execution_count": 7,
      "metadata": {
        "id": "UL4Vcd4Ipaks"
      },
      "outputs": [],
      "source": [
        "from sklearn.metrics import classification_report\n",
        "from sklearn.metrics import confusion_matrix"
      ]
    },
    {
      "cell_type": "code",
      "execution_count": 8,
      "metadata": {
        "id": "0Gs4C6mVerv5"
      },
      "outputs": [],
      "source": [
        "from sklearn.linear_model import LinearRegression\n",
        "from sklearn.linear_model import LogisticRegression"
      ]
    },
    {
      "cell_type": "code",
      "execution_count": 9,
      "metadata": {
        "id": "Oq9-bIU8xxKY"
      },
      "outputs": [],
      "source": [
        "from sklearn.tree import DecisionTreeRegressor\n",
        "from sklearn.tree import DecisionTreeClassifier"
      ]
    },
    {
      "cell_type": "code",
      "execution_count": 10,
      "metadata": {
        "id": "2lL-q-92xy2g"
      },
      "outputs": [],
      "source": [
        "from sklearn.ensemble import RandomForestRegressor\n",
        "from sklearn.ensemble import RandomForestClassifier"
      ]
    },
    {
      "cell_type": "code",
      "execution_count": 11,
      "metadata": {
        "id": "9wNBiECupkGp"
      },
      "outputs": [],
      "source": [
        "from sklearn.ensemble import AdaBoostRegressor\n",
        "from sklearn.ensemble import AdaBoostClassifier"
      ]
    },
    {
      "cell_type": "code",
      "execution_count": 12,
      "metadata": {
        "id": "xX0xHJHnpj3F"
      },
      "outputs": [],
      "source": [
        "from sklearn.ensemble import GradientBoostingRegressor\n",
        "from sklearn.ensemble import GradientBoostingClassifier"
      ]
    },
    {
      "cell_type": "code",
      "execution_count": 13,
      "metadata": {
        "id": "kOSVMxmYyCO-"
      },
      "outputs": [],
      "source": [
        "from sklearn.neighbors import KNeighborsRegressor\n",
        "from sklearn.neighbors import KNeighborsClassifier"
      ]
    },
    {
      "cell_type": "code",
      "execution_count": 14,
      "metadata": {
        "id": "_dyisYJryQAo"
      },
      "outputs": [],
      "source": [
        "from sklearn.naive_bayes import GaussianNB\n",
        "from sklearn.naive_bayes import MultinomialNB\n",
        "from sklearn.naive_bayes import BernoulliNB"
      ]
    },
    {
      "cell_type": "code",
      "execution_count": 15,
      "metadata": {
        "id": "2mHQLRYwyS8-"
      },
      "outputs": [],
      "source": [
        "from sklearn.svm import SVR\n",
        "from sklearn.svm import SVC"
      ]
    },
    {
      "cell_type": "code",
      "execution_count": 16,
      "metadata": {
        "id": "awhbC3aC2sK5"
      },
      "outputs": [],
      "source": [
        "from sklearn.cluster import KMeans"
      ]
    }
  ],
  "metadata": {
    "colab": {
      "collapsed_sections": [],
      "name": "ScikitLearn.ipynb",
      "provenance": []
    },
    "kernelspec": {
      "display_name": "Python 3",
      "name": "python3"
    },
    "language_info": {
      "name": "python"
    }
  },
  "nbformat": 4,
  "nbformat_minor": 0
}
