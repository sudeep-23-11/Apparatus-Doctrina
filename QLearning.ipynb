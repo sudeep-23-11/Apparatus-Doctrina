{
  "nbformat": 4,
  "nbformat_minor": 0,
  "metadata": {
    "colab": {
      "name": "QLearning.ipynb",
      "provenance": [],
      "collapsed_sections": []
    },
    "kernelspec": {
      "display_name": "Python 3",
      "name": "python3"
    },
    "language_info": {
      "name": "python"
    }
  },
  "cells": [
    {
      "cell_type": "code",
      "metadata": {
        "id": "89YOEQucaQMg"
      },
      "source": [
        "import numpy as np"
      ],
      "execution_count": 76,
      "outputs": []
    },
    {
      "cell_type": "code",
      "metadata": {
        "id": "hX4WJpb2aLBC"
      },
      "source": [
        "R=np.array([[-1, -1, -1, -1, 0, -1],\n",
        "            [-1, -1, -1, 0, -1, 100],\n",
        "            [-1, -1, -1, 0, -1, -1],\n",
        "            [-1, 0, 0, -1, 0, -1],\n",
        "            [-1, 0, 0, -1, -1, 100],\n",
        "            [-1, 0, -1, -1, 0, 100]])"
      ],
      "execution_count": 77,
      "outputs": []
    },
    {
      "cell_type": "code",
      "metadata": {
        "id": "PY3lqqLIbCcE"
      },
      "source": [
        "Q=np.zeros((6, 6))\n",
        "gamma=0.8\n",
        "initialState=1"
      ],
      "execution_count": 78,
      "outputs": []
    },
    {
      "cell_type": "code",
      "metadata": {
        "id": "8KPYyd-gdj4g"
      },
      "source": [
        "def avaliable_actions(state) :\n",
        "  lis1=R[state, :]\n",
        "  lis2=[]\n",
        "  for i, v in enumerate(lis1) :\n",
        "    if v>=0 :\n",
        "      lis2.append(i)\n",
        "  return lis2"
      ],
      "execution_count": 79,
      "outputs": []
    },
    {
      "cell_type": "code",
      "metadata": {
        "id": "L-EJIGVnfUyo"
      },
      "source": [
        "avaliableActions=avaliable_actions(initialState)\n",
        "print(avaliableActions)"
      ],
      "execution_count": null,
      "outputs": []
    },
    {
      "cell_type": "code",
      "metadata": {
        "id": "F6sm3OPcg70R"
      },
      "source": [
        "def next_action(actions) :\n",
        "  a=int(np.random.choice(actions, size=1))\n",
        "  return a"
      ],
      "execution_count": 81,
      "outputs": []
    },
    {
      "cell_type": "code",
      "metadata": {
        "id": "4kxOM7bDffpt"
      },
      "source": [
        "nextAction=next_action(avaliableActions)\n",
        "print(nextAction)"
      ],
      "execution_count": null,
      "outputs": []
    },
    {
      "cell_type": "code",
      "metadata": {
        "id": "LzH-lV8YiER-"
      },
      "source": [
        "def update_Qmatrix(state, action) :\n",
        "  lis1=avaliable_actions(action)\n",
        "  lis2=[]\n",
        "  for i in lis1 :\n",
        "    lis2.append(Q[action, i])\n",
        "  maxValue=max(lis2)\n",
        "  Q[state, action]=R[state, action]+(gamma*maxValue)"
      ],
      "execution_count": 83,
      "outputs": []
    },
    {
      "cell_type": "code",
      "metadata": {
        "id": "q07FTU2v8k-8"
      },
      "source": [
        "update_Qmatrix(initialState, nextAction)"
      ],
      "execution_count": 84,
      "outputs": []
    },
    {
      "cell_type": "code",
      "metadata": {
        "id": "OJ2CbMNR82so"
      },
      "source": [
        "for i in range(0, 10000, 1) :\n",
        "  currentState=np.random.randint(0, 6)\n",
        "  avaliableActions=avaliable_actions(currentState)\n",
        "  nextAction=next_action(avaliableActions)\n",
        "  update_Qmatrix(currentState, nextAction)"
      ],
      "execution_count": 85,
      "outputs": []
    },
    {
      "cell_type": "code",
      "metadata": {
        "id": "m4j3Ds_Y9PI6"
      },
      "source": [
        "Q=(Q/np.max(Q))*100\n",
        "print(Q)"
      ],
      "execution_count": null,
      "outputs": []
    },
    {
      "cell_type": "code",
      "metadata": {
        "id": "m0PQZaNl9SRk"
      },
      "source": [
        "def optimal_path(start, end) :\n",
        "  path=[start]\n",
        "  while start!=end :\n",
        "    lis=avaliable_actions(start)\n",
        "    nextAction=lis[0]\n",
        "    for i in lis :\n",
        "      if Q[start][i]>Q[start][nextAction] :\n",
        "        nextAction=i\n",
        "    start=nextAction\n",
        "    path.append(start)\n",
        "  print(path)"
      ],
      "execution_count": 87,
      "outputs": []
    },
    {
      "cell_type": "code",
      "metadata": {
        "id": "qRCuAGG0pFTP"
      },
      "source": [
        "optimal_path(2, 5)"
      ],
      "execution_count": null,
      "outputs": []
    }
  ]
}