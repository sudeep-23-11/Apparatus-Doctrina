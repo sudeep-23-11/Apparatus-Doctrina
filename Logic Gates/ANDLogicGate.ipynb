{
  "nbformat": 4,
  "nbformat_minor": 0,
  "metadata": {
    "colab": {
      "name": "ANDLogicGate.ipynb",
      "provenance": [],
      "collapsed_sections": []
    },
    "kernelspec": {
      "name": "python3",
      "display_name": "Python 3"
    },
    "language_info": {
      "name": "python"
    }
  },
  "cells": [
    {
      "cell_type": "code",
      "metadata": {
        "id": "Lvdie1YBN98I"
      },
      "source": [
        "import tensorflow.compat.v1 as tf\n",
        "tf.disable_eager_execution()"
      ],
      "execution_count": 1,
      "outputs": []
    },
    {
      "cell_type": "code",
      "metadata": {
        "id": "1PGPtN4JONDD"
      },
      "source": [
        "T=1.0\n",
        "F=-1.0\n",
        "bias=1.0"
      ],
      "execution_count": 2,
      "outputs": []
    },
    {
      "cell_type": "code",
      "metadata": {
        "id": "2kOG-_wxYbdH"
      },
      "source": [
        "x=[[F, F, bias],\n",
        "  [F, T, bias],\n",
        "  [T, F, bias],\n",
        "  [T, T, bias]]\n",
        "y=[[F],\n",
        "   [F],\n",
        "   [F],\n",
        "   [T]]\n",
        "w=tf.Variable(tf.truncated_normal([3, 1]))"
      ],
      "execution_count": 3,
      "outputs": []
    },
    {
      "cell_type": "code",
      "metadata": {
        "id": "dr3TJ5PLwfqH"
      },
      "source": [
        "def step(x) :\n",
        "  y=tf.cast(tf.greater(x, 0), tf.float32)\n",
        "  z=tf.subtract(tf.multiply(y, 2), 1)\n",
        "  return z"
      ],
      "execution_count": 4,
      "outputs": []
    },
    {
      "cell_type": "code",
      "metadata": {
        "id": "Uy9LF-UaZHwX"
      },
      "source": [
        "y_predict=step(tf.matmul(x, w))\n",
        "y_delta=tf.subtract(y, y_predict)\n",
        "loss=tf.reduce_mean(tf.square(y_delta))\n",
        "w_delta=tf.matmul(x, y_delta, transpose_a=True)\n",
        "train=tf.assign(w, tf.add(w, w_delta))"
      ],
      "execution_count": 5,
      "outputs": []
    },
    {
      "cell_type": "code",
      "metadata": {
        "id": "j0_Esla_6Fao"
      },
      "source": [
        "sess=tf.Session()\n",
        "sess.run(tf.global_variables_initializer())\n",
        "epoch=1\n",
        "loss_=1\n",
        "while epoch<11 and loss_>0 :\n",
        "  sess.run(train)\n",
        "  loss_=sess.run(loss)\n",
        "  print(f'epoch={epoch} -> loss={loss_}')\n",
        "  epoch+=1\n",
        "sess.close()"
      ],
      "execution_count": null,
      "outputs": []
    }
  ]
}