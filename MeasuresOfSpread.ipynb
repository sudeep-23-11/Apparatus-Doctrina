{
  "cells": [
    {
      "cell_type": "code",
      "execution_count": 1,
      "metadata": {
        "id": "_sKZkWzvyJXD"
      },
      "outputs": [],
      "source": [
        "#MeasuresOfSpread\n",
        "import pandas as pd\n",
        "import numpy as np"
      ]
    },
    {
      "cell_type": "code",
      "execution_count": null,
      "metadata": {
        "id": "JvIfBfWJy72q"
      },
      "outputs": [],
      "source": [
        "df=pd.read_csv(\"headbrain.csv\")\n",
        "df"
      ]
    },
    {
      "cell_type": "code",
      "execution_count": null,
      "metadata": {
        "id": "jSCUzvfLzblz"
      },
      "outputs": [],
      "source": [
        "brain_weight=df[\"Brain Weight(grams)\"].to_numpy()\n",
        "print(brain_weight)"
      ]
    },
    {
      "cell_type": "code",
      "execution_count": null,
      "metadata": {
        "id": "1H2C9otEztBD"
      },
      "outputs": [],
      "source": [
        "#Range\n",
        "max=np.max(brain_weight)\n",
        "min=np.min(brain_weight)\n",
        "range=max-min\n",
        "print(range)"
      ]
    },
    {
      "cell_type": "code",
      "execution_count": null,
      "metadata": {
        "id": "tXNzxWje1Ic1"
      },
      "outputs": [],
      "source": [
        "#InterQuartileRange\n",
        "median=np.median(brain_weight)\n",
        "lower_half=[]\n",
        "upper_half=[]\n",
        "for i in brain_weight :\n",
        "  if i>median :\n",
        "    upper_half.append(i)\n",
        "  elif i<median :\n",
        "    lower_half.append(i)\n",
        "q1=np.median(lower_half)\n",
        "q3=np.median(upper_half)\n",
        "iqr=q3-q1\n",
        "print(iqr)"
      ]
    },
    {
      "cell_type": "code",
      "execution_count": null,
      "metadata": {
        "id": "5ehWX-ux1KsH"
      },
      "outputs": [],
      "source": [
        "#Variance\n",
        "var=np.var(brain_weight)\n",
        "print(var)"
      ]
    },
    {
      "cell_type": "code",
      "execution_count": null,
      "metadata": {
        "id": "0g0DRWZX1mD3"
      },
      "outputs": [],
      "source": [
        "#StandardDeviation\n",
        "std=np.std(brain_weight)\n",
        "print(std)"
      ]
    }
  ],
  "metadata": {
    "colab": {
      "collapsed_sections": [],
      "name": "MeasuresOfSpread.ipynb",
      "provenance": []
    },
    "kernelspec": {
      "display_name": "Python 3",
      "name": "python3"
    },
    "language_info": {
      "name": "python"
    }
  },
  "nbformat": 4,
  "nbformat_minor": 0
}
