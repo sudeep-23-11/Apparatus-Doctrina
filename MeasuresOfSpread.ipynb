{
  "cells": [
    {
      "cell_type": "code",
      "execution_count": null,
      "metadata": {},
      "outputs": [],
      "source": [
        "import random\n",
        "import numpy as np"
      ]
    },
    {
      "cell_type": "code",
      "execution_count": null,
      "metadata": {},
      "outputs": [],
      "source": [
        "P = []\n",
        "for i in range(100) :\n",
        "    P.append(random.randint(0, 999))\n",
        "P = np.array(P)\n",
        "print(P)"
      ]
    },
    {
      "cell_type": "markdown",
      "metadata": {},
      "source": [
        "### Range"
      ]
    },
    {
      "cell_type": "code",
      "execution_count": null,
      "metadata": {
        "id": "1H2C9otEztBD"
      },
      "outputs": [],
      "source": [
        "max_ = np.max(P)\n",
        "min_ = np.min(P)\n",
        "range_ = max_ - min_\n",
        "print(range_)"
      ]
    },
    {
      "cell_type": "markdown",
      "metadata": {},
      "source": [
        "### Inter-Quartile Range"
      ]
    },
    {
      "cell_type": "code",
      "execution_count": null,
      "metadata": {
        "id": "tXNzxWje1Ic1"
      },
      "outputs": [],
      "source": [
        "q2 = np.median(P)\n",
        "L = []\n",
        "R = []\n",
        "for i in P :\n",
        "    if i < q2 :\n",
        "        L.append(i)\n",
        "    elif i > q2 :\n",
        "        R.append(i)\n",
        "q1 = np.median(L)\n",
        "q3 = np.median(R)\n",
        "iqr = q3 - q1\n",
        "print(iqr)"
      ]
    },
    {
      "cell_type": "markdown",
      "metadata": {},
      "source": [
        "### Variance"
      ]
    },
    {
      "cell_type": "code",
      "execution_count": null,
      "metadata": {
        "id": "5ehWX-ux1KsH"
      },
      "outputs": [],
      "source": [
        "var = np.var(P)\n",
        "print(var)"
      ]
    },
    {
      "cell_type": "markdown",
      "metadata": {},
      "source": [
        "### Standard Deviation"
      ]
    },
    {
      "cell_type": "code",
      "execution_count": null,
      "metadata": {
        "id": "0g0DRWZX1mD3"
      },
      "outputs": [],
      "source": [
        "std = np.std(P)\n",
        "print(std)"
      ]
    }
  ],
  "metadata": {
    "colab": {
      "collapsed_sections": [],
      "name": "MeasuresOfSpread.ipynb",
      "provenance": []
    },
    "kernelspec": {
      "display_name": "Python 3.10.6 64-bit",
      "language": "python",
      "name": "python3"
    },
    "language_info": {
      "codemirror_mode": {
        "name": "ipython",
        "version": 3
      },
      "file_extension": ".py",
      "mimetype": "text/x-python",
      "name": "python",
      "nbconvert_exporter": "python",
      "pygments_lexer": "ipython3",
      "version": "3.10.6"
    },
    "vscode": {
      "interpreter": {
        "hash": "26de051ba29f2982a8de78e945f0abaf191376122a1563185a90213a26c5da77"
      }
    }
  },
  "nbformat": 4,
  "nbformat_minor": 0
}
