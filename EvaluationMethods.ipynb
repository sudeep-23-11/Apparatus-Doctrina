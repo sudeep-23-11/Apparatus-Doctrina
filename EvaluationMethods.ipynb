{
 "cells": [
  {
   "cell_type": "markdown",
   "metadata": {},
   "source": [
    "### Holdout Set"
   ]
  },
  {
   "cell_type": "markdown",
   "metadata": {},
   "source": [
    "* Used when the data is large\n",
    "* Divide the data into two disjoint subsets, training set and test set\n",
    "* Train the model using training set\n",
    "* Test the model using test set"
   ]
  },
  {
   "cell_type": "markdown",
   "metadata": {},
   "source": [
    "### N-Fold Cross-Validation"
   ]
  },
  {
   "cell_type": "markdown",
   "metadata": {},
   "source": [
    "* Used when the data is small\n",
    "* Divide the data into N equal-size disjoint subsets\n",
    "* Take one of them as test data and remaining N-1 sets as training data\n",
    "* Do above step N times, each time with different set as test data and obtain N different accuracies\n",
    "* Take average of all these accuracies"
   ]
  },
  {
   "cell_type": "markdown",
   "metadata": {},
   "source": [
    "### Leave-One-Out Cross-Validation"
   ]
  },
  {
   "cell_type": "markdown",
   "metadata": {},
   "source": [
    "* Used when the data is very small\n",
    "* Divide the data into N instances\n",
    "* Take one of them as test data and remaining N-1 instances as training data\n",
    "* Do above step N times, each time with different instance as test data and obtain N different accuracies\n",
    "* Take average of all these accuracies"
   ]
  },
  {
   "cell_type": "markdown",
   "metadata": {},
   "source": [
    "### Validation Set"
   ]
  },
  {
   "cell_type": "markdown",
   "metadata": {},
   "source": [
    "* Used when data is very large\n",
    "* Divide the data into three disjoint subsets, training set, validation set and test set\n",
    "* Train the model using training set\n",
    "* Do hyperparameter tunning using validation set and move forward with best values of hyperparameters\n",
    "* Test the model using test set"
   ]
  }
 ],
 "metadata": {
  "kernelspec": {
   "display_name": "Python 3.10.6 64-bit",
   "language": "python",
   "name": "python3"
  },
  "language_info": {
   "name": "python",
   "version": "3.10.6"
  },
  "orig_nbformat": 4,
  "vscode": {
   "interpreter": {
    "hash": "26de051ba29f2982a8de78e945f0abaf191376122a1563185a90213a26c5da77"
   }
  }
 },
 "nbformat": 4,
 "nbformat_minor": 2
}
