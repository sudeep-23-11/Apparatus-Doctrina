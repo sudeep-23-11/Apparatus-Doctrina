{
  "nbformat": 4,
  "nbformat_minor": 0,
  "metadata": {
    "colab": {
      "name": "ArtificialNeuralNetwork.ipynb",
      "provenance": [],
      "collapsed_sections": []
    },
    "kernelspec": {
      "name": "python3",
      "display_name": "Python 3"
    },
    "language_info": {
      "name": "python"
    }
  },
  "cells": [
    {
      "cell_type": "code",
      "metadata": {
        "id": "qRlMYRBW7lqp"
      },
      "source": [
        "import tensorflow.compat.v1 as tf\n",
        "import pandas as pd\n",
        "tf.disable_eager_execution()"
      ],
      "execution_count": 40,
      "outputs": []
    },
    {
      "cell_type": "code",
      "metadata": {
        "id": "1d0m1YeKD59F"
      },
      "source": [
        "from sklearn.utils import shuffle\n",
        "from sklearn.model_selection import train_test_split"
      ],
      "execution_count": 41,
      "outputs": []
    },
    {
      "cell_type": "code",
      "metadata": {
        "id": "dnS5iog4Ew4e"
      },
      "source": [
        "df=pd.read_csv('banknote.csv')\n",
        "df"
      ],
      "execution_count": null,
      "outputs": []
    },
    {
      "cell_type": "code",
      "metadata": {
        "id": "GV9nYw-PFUap"
      },
      "source": [
        "print(df.isnull().sum())"
      ],
      "execution_count": null,
      "outputs": []
    },
    {
      "cell_type": "code",
      "metadata": {
        "id": "vdJVdBIV44m7"
      },
      "source": [
        "one_hot=pd.get_dummies(df['class'])\n",
        "df.drop(['class'], axis=1, inplace=True)\n",
        "df=pd.concat([df, one_hot], axis=1)"
      ],
      "execution_count": 44,
      "outputs": []
    },
    {
      "cell_type": "code",
      "metadata": {
        "id": "_RjSHVHFHgW_"
      },
      "source": [
        "X=df.drop([0, 1], axis=1)\n",
        "Y=df[[0, 1]]\n",
        "X, Y=shuffle(X, Y, random_state=0)\n",
        "x_train, x_test, y_train, y_test=train_test_split(X, Y, test_size=0.33, random_state=0)"
      ],
      "execution_count": 45,
      "outputs": []
    },
    {
      "cell_type": "code",
      "metadata": {
        "id": "hIUeIH4X3KQF"
      },
      "source": [
        "print(X.shape[1])"
      ],
      "execution_count": null,
      "outputs": []
    },
    {
      "cell_type": "code",
      "metadata": {
        "id": "5SbyI3ppItLH"
      },
      "source": [
        "x=tf.placeholder(tf.float32, [None, 4])\n",
        "y=tf.placeholder(tf.float32, [None, 2])"
      ],
      "execution_count": 47,
      "outputs": []
    },
    {
      "cell_type": "code",
      "metadata": {
        "id": "DepjIV4GIxcw"
      },
      "source": [
        "w={'h1':tf.Variable(tf.truncated_normal([4, 4])),\n",
        "    'h2':tf.Variable(tf.truncated_normal([4, 4])),\n",
        "    'h3':tf.Variable(tf.truncated_normal([4, 4])),\n",
        "    'h4':tf.Variable(tf.truncated_normal([4, 4])),\n",
        "    'out':tf.Variable(tf.truncated_normal([4, 2]))}"
      ],
      "execution_count": 48,
      "outputs": []
    },
    {
      "cell_type": "code",
      "metadata": {
        "id": "8vdrUe4cwEQB"
      },
      "source": [
        "b={'b1':tf.Variable(tf.truncated_normal([4])),\n",
        "    'b2':tf.Variable(tf.truncated_normal([4])),\n",
        "    'b3':tf.Variable(tf.truncated_normal([4])),\n",
        "    'b4':tf.Variable(tf.truncated_normal([4])),\n",
        "    'out':tf.Variable(tf.truncated_normal([2]))}"
      ],
      "execution_count": 49,
      "outputs": []
    },
    {
      "cell_type": "code",
      "metadata": {
        "id": "_AlS7jEFxOxI"
      },
      "source": [
        "layer1=tf.nn.sigmoid(tf.add(tf.matmul(x, w['h1']), b['b1']))\n",
        "layer2=tf.nn.sigmoid(tf.add(tf.matmul(layer1, w['h2']), b['b2']))\n",
        "layer3=tf.nn.sigmoid(tf.add(tf.matmul(layer2, w['h3']), b['b3']))\n",
        "layer4=tf.nn.relu(tf.add(tf.matmul(layer3, w['h4']), b['b4']))\n",
        "y_predict=tf.add(tf.matmul(layer4, w['out']), b['out'])"
      ],
      "execution_count": 50,
      "outputs": []
    },
    {
      "cell_type": "code",
      "metadata": {
        "id": "jIx6klvczolZ"
      },
      "source": [
        "loss=tf.reduce_mean(tf.nn.softmax_cross_entropy_with_logits_v2(logits=y_predict, labels=y))\n",
        "optimizer=tf.train.GradientDescentOptimizer(0.3)\n",
        "train=optimizer.minimize(loss)\n",
        "delta=tf.equal(tf.argmax(y, 1), tf.argmax(y_predict, 1))\n",
        "accuracy=tf.reduce_mean(tf.cast(delta, tf.float32))"
      ],
      "execution_count": 51,
      "outputs": []
    },
    {
      "cell_type": "code",
      "metadata": {
        "id": "3YhW-yxf0IY1"
      },
      "source": [
        "sess=tf.Session()\n",
        "sess.run(tf.global_variables_initializer())\n",
        "for epoch in range(1, 1001, 1) :\n",
        "  sess.run(train, feed_dict={x:x_train, y:y_train})\n",
        "  loss_=sess.run(loss, feed_dict={x:x_train, y:y_train})\n",
        "  accuracy_=sess.run(accuracy, feed_dict={x:x_train, y:y_train})\n",
        "  print(f'epoch={epoch} -> loss={loss_} -> accuracy={accuracy_}')"
      ],
      "execution_count": null,
      "outputs": []
    },
    {
      "cell_type": "code",
      "metadata": {
        "id": "_asgXZV22Qcd"
      },
      "source": [
        "loss_=sess.run(loss, feed_dict={x:x_test, y:y_test})\n",
        "accuracy_=sess.run(accuracy, feed_dict={x:x_test, y:y_test})\n",
        "print(loss_, accuracy_)\n",
        "sess.close()"
      ],
      "execution_count": null,
      "outputs": []
    }
  ]
}