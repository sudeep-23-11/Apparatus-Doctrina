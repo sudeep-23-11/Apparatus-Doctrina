{
  "nbformat": 4,
  "nbformat_minor": 0,
  "metadata": {
    "colab": {
      "name": "Numpy1.ipynb",
      "provenance": [],
      "collapsed_sections": []
    },
    "kernelspec": {
      "name": "python3",
      "display_name": "Python 3"
    },
    "language_info": {
      "name": "python"
    }
  },
  "cells": [
    {
      "cell_type": "code",
      "metadata": {
        "id": "cPBd1oUJFQ1e"
      },
      "source": [
        "import numpy as np"
      ],
      "execution_count": 1,
      "outputs": []
    },
    {
      "cell_type": "code",
      "metadata": {
        "id": "75x4h_97Zhw5"
      },
      "source": [
        "A=np.arange(10, 100, 10)\n",
        "B=np.linspace(10, 100, 10)\n",
        "print(A, B, sep='\\n\\n')"
      ],
      "execution_count": null,
      "outputs": []
    },
    {
      "cell_type": "code",
      "metadata": {
        "id": "VINtAzWZ2FrG"
      },
      "source": [
        "A=np.arange(10, 100, 10)\n",
        "print(A[1], A[-1])\n",
        "print(A[:3], A[3:], A[1:4:1])"
      ],
      "execution_count": null,
      "outputs": []
    },
    {
      "cell_type": "code",
      "metadata": {
        "id": "2nDAARR6bmOB"
      },
      "source": [
        "A=np.array([1, 2, 3, 4, 5])\n",
        "print(np.size(A), np.ndim(A), np.shape(A), A.nbytes)\n",
        "print(A, end='\\n\\n')\n",
        "B=np.array([[1, 2, 3], [4, 5, 6]])\n",
        "print(np.size(B), np.ndim(B), np.shape(B), B.nbytes)\n",
        "print(B, end='\\n\\n')\n",
        "C=np.array([[[1, 2], [3, 4]], [[5, 6], [7, 8]]])\n",
        "print(np.size(C), np.ndim(C), np.shape(C), C.nbytes)\n",
        "print(C, end='\\n\\n')"
      ],
      "execution_count": null,
      "outputs": []
    },
    {
      "cell_type": "code",
      "metadata": {
        "id": "aYwO8OPZdUgL"
      },
      "source": [
        "A=np.zeros((3, 3))\n",
        "B=np.ones((3, 3))\n",
        "C=np.eye(3, 3)\n",
        "D=np.identity(3)\n",
        "E=np.diag([1, 2, 3])\n",
        "F=np.random.rand(3, 3)\n",
        "G=np.empty((3, 3))\n",
        "H=np.empty_like(E)\n",
        "print(A, B, C, D, E, F, G, H, sep='\\n\\n')"
      ],
      "execution_count": null,
      "outputs": []
    },
    {
      "cell_type": "code",
      "metadata": {
        "id": "QSuVgbLLxZDn"
      },
      "source": [
        "A=np.arange(10, 100, 10)\n",
        "print(A.dtype)\n",
        "B=np.arange(10, 100, 10, dtype='float64')\n",
        "print(B.dtype)"
      ],
      "execution_count": null,
      "outputs": []
    },
    {
      "cell_type": "code",
      "metadata": {
        "id": "ttoo34RCzOmu"
      },
      "source": [
        "A=np.array([[1, 2, 3], [4, 5, 6], [7, 8, 9]])\n",
        "A[1, 1]=10\n",
        "print(A[1, 1])\n",
        "print(A[0, :])\n",
        "print(A[:, 2], end='\\n\\n')\n",
        "print(np.where(A>5))"
      ],
      "execution_count": null,
      "outputs": []
    },
    {
      "cell_type": "code",
      "metadata": {
        "id": "0mah8IJWRJMG"
      },
      "source": [
        "A=np.arange(10, 100, 10)\n",
        "print((A+2), (A-2), (A*2), (A/2), (A%2), (A//2), (A**2), sep='\\n\\n')"
      ],
      "execution_count": null,
      "outputs": []
    },
    {
      "cell_type": "code",
      "metadata": {
        "id": "IhFxpAJLf2Ee"
      },
      "source": [
        "A=np.arange(10, 100, 10)\n",
        "for i in A.flat :\n",
        "  print(i, end=' ')"
      ],
      "execution_count": null,
      "outputs": []
    }
  ]
}