{
  "nbformat": 4,
  "nbformat_minor": 0,
  "metadata": {
    "colab": {
      "name": "Numpy2.ipynb",
      "provenance": [],
      "collapsed_sections": []
    },
    "kernelspec": {
      "name": "python3",
      "display_name": "Python 3"
    },
    "language_info": {
      "name": "python"
    }
  },
  "cells": [
    {
      "cell_type": "code",
      "metadata": {
        "id": "0010AvidFv3u"
      },
      "source": [
        "import numpy as np"
      ],
      "execution_count": 1,
      "outputs": []
    },
    {
      "cell_type": "code",
      "metadata": {
        "id": "vw0Ekf6NB-Py"
      },
      "source": [
        "A=np.array([1, 2, 3, 4])\n",
        "B=np.array([1, 3, 2, 4])\n",
        "print(A==B)\n",
        "print(np.all(A==B))\n",
        "print(np.any(A==B))\n",
        "print(np.array_equal(A, B))"
      ],
      "execution_count": null,
      "outputs": []
    },
    {
      "cell_type": "code",
      "metadata": {
        "id": "K5HdHzc3EAc6"
      },
      "source": [
        "A=np.array([0, 0, 1, 1], dtype='bool')\n",
        "B=np.array([0, 1, 0, 1], dtype='bool')\n",
        "print(np.logical_not(A), end='\\n\\n')\n",
        "print(np.logical_and(A, B), end='\\n\\n')\n",
        "print(np.logical_or(A, B), end='\\n\\n')\n",
        "print(np.logical_xor(A, B), end='\\n\\n')"
      ],
      "execution_count": null,
      "outputs": []
    },
    {
      "cell_type": "code",
      "metadata": {
        "id": "g8uxihV1I2zg"
      },
      "source": [
        "A=np.arange(1, 7, 1)\n",
        "print(np.sin(A), np.cos(A), np.tan(A), sep='\\n\\n', end='\\n\\n')\n",
        "print(np.log(A), np.log10(A), np.exp(A), sep='\\n\\n', end='\\n\\n')\n",
        "print(np.sqrt(A), np.cbrt(A), np.power(A, 5), sep='\\n\\n', end='\\n\\n')"
      ],
      "execution_count": null,
      "outputs": []
    },
    {
      "cell_type": "code",
      "metadata": {
        "id": "tqsKDd5KJ2D6"
      },
      "source": [
        "A=np.array([2, 4, 1, 5, 3, 6])\n",
        "print(np.sum(A))\n",
        "print(np.sort(A))\n",
        "print(np.argsort(A), end='\\n\\n')\n",
        "B=np.array([[2, 4, 1], [5, 3, 6]])\n",
        "print(np.sum(B, axis=0))\n",
        "print(np.sort(B, axis=0))\n",
        "print(np.argsort(B, axis=0), end='\\n\\n')\n",
        "print(np.sum(B, axis=1))\n",
        "print(np.sort(B, axis=1))\n",
        "print(np.argsort(B, axis=1), end='\\n\\n')"
      ],
      "execution_count": null,
      "outputs": []
    },
    {
      "cell_type": "code",
      "metadata": {
        "id": "qtqUYtWaUofe"
      },
      "source": [
        "A=np.array([2, 4, 1, 5, 3, 6])\n",
        "print(np.argmax(A), np.max(A))\n",
        "print(np.argmin(A), np.min(A), end='\\n\\n')\n",
        "B=np.array([[1, 2, 3], [4, 5, 6]])\n",
        "print(np.argmax(B, axis=0), np.max(B, axis=0))\n",
        "print(np.argmin(B, axis=0), np.min(B, axis=0), end='\\n\\n')\n",
        "print(np.argmax(B, axis=1), np.max(B, axis=1))\n",
        "print(np.argmin(B, axis=1), np.min(B, axis=1), end='\\n\\n')"
      ],
      "execution_count": null,
      "outputs": []
    },
    {
      "cell_type": "code",
      "metadata": {
        "id": "MNtpFWF6ON2o"
      },
      "source": [
        "A=np.array([1, 2, 3, 4, 5])\n",
        "print(np.mean(A), np.median(A), np.var(A), np.std(A), end='\\n\\n')\n",
        "B=np.array([[1, 2, 3], [4, 5, 6]])\n",
        "print(np.mean(B, axis=0), np.median(B, axis=0), np.var(B, axis=0), np.std(B, axis=0), end='\\n\\n')\n",
        "print(np.mean(B, axis=1), np.median(B, axis=1), np.var(B, axis=1), np.std(B, axis=1), end='\\n\\n')"
      ],
      "execution_count": null,
      "outputs": []
    },
    {
      "cell_type": "code",
      "metadata": {
        "id": "6rnFhseEPkuv"
      },
      "source": [
        "B=np.array([[1, 2, 3], [4, 5, 6]])\n",
        "print(np.ravel(B), end='\\n\\n')\n",
        "print(np.reshape(B, (6, 1)), end='\\n\\n')\n",
        "print(B.T, end='\\n\\n')"
      ],
      "execution_count": null,
      "outputs": []
    },
    {
      "cell_type": "code",
      "metadata": {
        "id": "H1k8qFa8MDaQ"
      },
      "source": [
        "A=np.array([[1, 2, 3], [4, 5, 6]])\n",
        "B=np.array([[7, 8, 9], [10, 11, 12]])\n",
        "C=np.hstack([A, B])\n",
        "D=np.vstack([A, B])\n",
        "print(C, D, sep='\\n\\n')"
      ],
      "execution_count": null,
      "outputs": []
    }
  ]
}