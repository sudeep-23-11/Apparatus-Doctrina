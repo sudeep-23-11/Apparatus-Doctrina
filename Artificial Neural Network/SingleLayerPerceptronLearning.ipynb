{
  "cells": [
    {
      "cell_type": "code",
      "execution_count": 33,
      "metadata": {
        "id": "qRlMYRBW7lqp"
      },
      "outputs": [],
      "source": [
        "import tensorflow.compat.v1 as tf\n",
        "import pandas as pd\n",
        "tf.disable_eager_execution()"
      ]
    },
    {
      "cell_type": "code",
      "execution_count": 34,
      "metadata": {
        "id": "1d0m1YeKD59F"
      },
      "outputs": [],
      "source": [
        "from sklearn.utils import shuffle\n",
        "from sklearn.model_selection import train_test_split"
      ]
    },
    {
      "cell_type": "code",
      "execution_count": null,
      "metadata": {
        "id": "dnS5iog4Ew4e"
      },
      "outputs": [],
      "source": [
        "df=pd.read_csv('sonar.csv')\n",
        "df"
      ]
    },
    {
      "cell_type": "code",
      "execution_count": 38,
      "metadata": {
        "id": "_RjSHVHFHgW_"
      },
      "outputs": [],
      "source": [
        "X=df.drop(['M', 'R'], axis=1)\n",
        "Y=df[['M', 'R']]\n",
        "X, Y=shuffle(X, Y, random_state=0)\n",
        "x_train, x_test, y_train, y_test=train_test_split(X, Y, test_size=0.33, random_state=0)"
      ]
    },
    {
      "cell_type": "code",
      "execution_count": null,
      "metadata": {
        "id": "Xg3twv78FU-2"
      },
      "outputs": [],
      "source": [
        "print(X.shape[1])"
      ]
    },
    {
      "cell_type": "code",
      "execution_count": 40,
      "metadata": {
        "id": "5SbyI3ppItLH"
      },
      "outputs": [],
      "source": [
        "x=tf.placeholder(tf.float32, [None, 60])\n",
        "y=tf.placeholder(tf.float32, [None, 2])\n",
        "w=tf.Variable(tf.truncated_normal([60, 2]))\n",
        "b=tf.Variable(tf.truncated_normal([2]))\n",
        "y_predict=tf.nn.relu(tf.add(tf.matmul(x, w), b))"
      ]
    },
    {
      "cell_type": "code",
      "execution_count": 41,
      "metadata": {
        "id": "jIx6klvczolZ"
      },
      "outputs": [],
      "source": [
        "loss=tf.reduce_mean(tf.nn.softmax_cross_entropy_with_logits_v2(logits=y_predict, labels=y))\n",
        "optimizer=tf.train.GradientDescentOptimizer(0.3)\n",
        "train=optimizer.minimize(loss)\n",
        "delta=tf.equal(tf.argmax(y, 1), tf.argmax(y_predict, 1))\n",
        "accuracy=tf.reduce_mean(tf.cast(delta, tf.float32))"
      ]
    },
    {
      "cell_type": "code",
      "execution_count": null,
      "metadata": {
        "id": "3YhW-yxf0IY1"
      },
      "outputs": [],
      "source": [
        "sess=tf.Session()\n",
        "sess.run(tf.global_variables_initializer())\n",
        "for epoch in range(1, 1001, 1) :\n",
        "  sess.run(train, feed_dict={x:x_train, y:y_train})\n",
        "  loss_=sess.run(loss, feed_dict={x:x_train, y:y_train})\n",
        "  accuracy_=sess.run(accuracy, feed_dict={x:x_train, y:y_train})\n",
        "  print(f'epoch={epoch} -> loss={loss_} -> accuracy={accuracy_}')"
      ]
    },
    {
      "cell_type": "code",
      "execution_count": null,
      "metadata": {
        "id": "_asgXZV22Qcd"
      },
      "outputs": [],
      "source": [
        "loss_=sess.run(loss, feed_dict={x:x_test, y:y_test})\n",
        "accuracy_=sess.run(accuracy, feed_dict={x:x_test, y:y_test})\n",
        "print(loss_, accuracy_)\n",
        "sess.close()"
      ]
    }
  ],
  "metadata": {
    "colab": {
      "collapsed_sections": [],
      "name": "SingleLayerPerceptronLearning.ipynb",
      "provenance": []
    },
    "kernelspec": {
      "display_name": "Python 3",
      "name": "python3"
    },
    "language_info": {
      "name": "python"
    }
  },
  "nbformat": 4,
  "nbformat_minor": 0
}
