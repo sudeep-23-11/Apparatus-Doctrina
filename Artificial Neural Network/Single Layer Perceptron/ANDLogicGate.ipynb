{
  "cells": [
    {
      "cell_type": "code",
      "execution_count": null,
      "metadata": {
        "id": "Lvdie1YBN98I"
      },
      "outputs": [],
      "source": [
        "import tensorflow.compat.v1 as tf\n",
        "tf.disable_v2_behavior()"
      ]
    },
    {
      "cell_type": "code",
      "execution_count": null,
      "metadata": {
        "id": "1PGPtN4JONDD"
      },
      "outputs": [],
      "source": [
        "T = 1.0\n",
        "F = 0.0\n",
        "bias = 1.0"
      ]
    },
    {
      "cell_type": "code",
      "execution_count": null,
      "metadata": {
        "id": "2kOG-_wxYbdH"
      },
      "outputs": [],
      "source": [
        "x = [[F, F, bias],\n",
        "    [F, T, bias],\n",
        "    [T, F, bias],\n",
        "    [T, T, bias]]\n",
        "y = [[F],\n",
        "    [F],\n",
        "    [F],\n",
        "    [T]]\n",
        "w = tf.Variable(tf.truncated_normal([3, 1]))"
      ]
    },
    {
      "cell_type": "code",
      "execution_count": null,
      "metadata": {
        "id": "dr3TJ5PLwfqH"
      },
      "outputs": [],
      "source": [
        "def binary_step(x) :\n",
        "    y = tf.greater_equal(x, 0)\n",
        "    return tf.cast(y, tf.float32)"
      ]
    },
    {
      "cell_type": "code",
      "execution_count": null,
      "metadata": {},
      "outputs": [],
      "source": [
        "net_input = tf.matmul(x, w)\n",
        "y_predict = binary_step(net_input)"
      ]
    },
    {
      "cell_type": "code",
      "execution_count": null,
      "metadata": {},
      "outputs": [],
      "source": [
        "y_delta = tf.subtract(y, y_predict)\n",
        "w_delta = tf.matmul(x, y_delta, transpose_a=True)\n",
        "train = tf.assign(w, tf.add(w, w_delta))"
      ]
    },
    {
      "cell_type": "code",
      "execution_count": null,
      "metadata": {
        "id": "j0_Esla_6Fao"
      },
      "outputs": [],
      "source": [
        "sess = tf.Session()\n",
        "sess.run(tf.global_variables_initializer())\n",
        "for epoch in range(100) :\n",
        "    sess.run(train)\n",
        "print(sess.run(w))\n",
        "sess.close()"
      ]
    }
  ],
  "metadata": {
    "colab": {
      "collapsed_sections": [],
      "name": "ANDLogicGate.ipynb",
      "provenance": []
    },
    "kernelspec": {
      "display_name": "Python 3.10.6 64-bit",
      "language": "python",
      "name": "python3"
    },
    "language_info": {
      "codemirror_mode": {
        "name": "ipython",
        "version": 3
      },
      "file_extension": ".py",
      "mimetype": "text/x-python",
      "name": "python",
      "nbconvert_exporter": "python",
      "pygments_lexer": "ipython3",
      "version": "3.10.6"
    },
    "vscode": {
      "interpreter": {
        "hash": "26de051ba29f2982a8de78e945f0abaf191376122a1563185a90213a26c5da77"
      }
    }
  },
  "nbformat": 4,
  "nbformat_minor": 0
}
