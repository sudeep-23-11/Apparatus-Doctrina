{
  "nbformat": 4,
  "nbformat_minor": 0,
  "metadata": {
    "colab": {
      "name": "Scipy.ipynb",
      "provenance": [],
      "collapsed_sections": []
    },
    "kernelspec": {
      "name": "python3",
      "display_name": "Python 3"
    },
    "language_info": {
      "name": "python"
    }
  },
  "cells": [
    {
      "cell_type": "code",
      "execution_count": 25,
      "metadata": {
        "id": "5i7HWWK-NN6i"
      },
      "outputs": [],
      "source": [
        "#Scipy\n",
        "import numpy as np\n",
        "from scipy import special\n",
        "from scipy import integrate\n",
        "from scipy import linalg"
      ]
    },
    {
      "cell_type": "code",
      "source": [
        "print(special.exp2(2), special.exp10(2), special.cbrt(2))\n",
        "print(special.sindg(30), special.cosdg(30), special.tandg(30), special.cotdg(30))\n",
        "print(special.radian(180, 0, 0), special.round(2.56), special.factorial(5))"
      ],
      "metadata": {
        "id": "YbY6lbX4Tenl"
      },
      "execution_count": null,
      "outputs": []
    },
    {
      "cell_type": "code",
      "source": [
        "f=lambda x : x**2\n",
        "print(integrate.quad(f, 1, 2))\n",
        "g=lambda x, y : (x**2)*(y**2)\n",
        "print(integrate.dblquad(g, 1, 2, 1, 3))\n",
        "h=lambda x, y, z : (x**2)*(y**2)*(z**2)\n",
        "print(integrate.tplquad(h, 1, 2, 1, 3, 1, 4))"
      ],
      "metadata": {
        "id": "-_PTxR09WkYU"
      },
      "execution_count": null,
      "outputs": []
    },
    {
      "cell_type": "code",
      "source": [
        "B=np.array([[1, 2], [3, 4]])\n",
        "print(linalg.det(B), linalg.inv(B), linalg.signm(B), sep=\"\\n\\n\", end=\"\\n\\n\")\n",
        "print(linalg.sinm(B), linalg.cosm(B), linalg.tanm(B), sep=\"\\n\\n\", end=\"\\n\\n\")\n",
        "print(linalg.logm(B), linalg.expm(B), linalg.sqrtm(B), sep=\"\\n\\n\", end=\"\\n\\n\")"
      ],
      "metadata": {
        "id": "MO5qUvgyPOt4"
      },
      "execution_count": null,
      "outputs": []
    }
  ]
}