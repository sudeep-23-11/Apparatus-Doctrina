{
  "cells": [
    {
      "cell_type": "code",
      "execution_count": 25,
      "metadata": {
        "id": "5i7HWWK-NN6i"
      },
      "outputs": [],
      "source": [
        "#SciPy\n",
        "import numpy as np\n",
        "from scipy import special\n",
        "from scipy import integrate\n",
        "from scipy import linalg"
      ]
    },
    {
      "cell_type": "code",
      "execution_count": null,
      "metadata": {
        "id": "YbY6lbX4Tenl"
      },
      "outputs": [],
      "source": [
        "print(special.exp2(2), special.exp10(2), special.cbrt(2))\n",
        "print(special.sindg(30), special.cosdg(30), special.tandg(30), special.cotdg(30))\n",
        "print(special.radian(180, 0, 0), special.round(2.56), special.factorial(5))"
      ]
    },
    {
      "cell_type": "code",
      "execution_count": null,
      "metadata": {
        "id": "-_PTxR09WkYU"
      },
      "outputs": [],
      "source": [
        "f=lambda x : x**2\n",
        "print(integrate.quad(f, 1, 2))\n",
        "g=lambda x, y : (x**2)*(y**2)\n",
        "print(integrate.dblquad(g, 1, 2, 1, 3))\n",
        "h=lambda x, y, z : (x**2)*(y**2)*(z**2)\n",
        "print(integrate.tplquad(h, 1, 2, 1, 3, 1, 4))"
      ]
    },
    {
      "cell_type": "code",
      "execution_count": null,
      "metadata": {
        "id": "MO5qUvgyPOt4"
      },
      "outputs": [],
      "source": [
        "A=np.array([[1, 2], [3, 4]])\n",
        "print(linalg.det(A), linalg.inv(A), linalg.signm(A), sep=\"\\n\\n\", end=\"\\n\\n\")\n",
        "print(linalg.sinm(A), linalg.cosm(A), linalg.tanm(A), sep=\"\\n\\n\", end=\"\\n\\n\")\n",
        "print(linalg.logm(A), linalg.expm(A), linalg.sqrtm(A), sep=\"\\n\\n\", end=\"\\n\\n\")"
      ]
    }
  ],
  "metadata": {
    "colab": {
      "collapsed_sections": [],
      "name": "Scipy.ipynb",
      "provenance": []
    },
    "kernelspec": {
      "display_name": "Python 3",
      "name": "python3"
    },
    "language_info": {
      "name": "python"
    }
  },
  "nbformat": 4,
  "nbformat_minor": 0
}
