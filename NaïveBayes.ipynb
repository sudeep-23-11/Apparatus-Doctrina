{
  "nbformat": 4,
  "nbformat_minor": 0,
  "metadata": {
    "colab": {
      "name": "NaïveBayes.ipynb",
      "provenance": [],
      "collapsed_sections": []
    },
    "kernelspec": {
      "name": "python3",
      "display_name": "Python 3"
    },
    "language_info": {
      "name": "python"
    }
  },
  "cells": [
    {
      "cell_type": "code",
      "metadata": {
        "id": "rzCxKTJXRQsK"
      },
      "source": [
        "import pandas as pd"
      ],
      "execution_count": 21,
      "outputs": []
    },
    {
      "cell_type": "code",
      "metadata": {
        "id": "HYbyPoTGRTUj"
      },
      "source": [
        "from sklearn.preprocessing import LabelEncoder\n",
        "from sklearn.model_selection import train_test_split\n",
        "from sklearn.preprocessing import StandardScaler\n",
        "from sklearn.naive_bayes import GaussianNB\n",
        "from sklearn.metrics import classification_report\n",
        "from sklearn.metrics import confusion_matrix\n",
        "from sklearn.metrics import accuracy_score"
      ],
      "execution_count": 22,
      "outputs": []
    },
    {
      "cell_type": "code",
      "metadata": {
        "id": "1PcQ79W8UWlk"
      },
      "source": [
        "df=pd.read_csv('suv.csv')\n",
        "df"
      ],
      "execution_count": null,
      "outputs": []
    },
    {
      "cell_type": "code",
      "metadata": {
        "id": "D1mzwnIqYsnb"
      },
      "source": [
        "print(df.isnull().sum())"
      ],
      "execution_count": null,
      "outputs": []
    },
    {
      "cell_type": "code",
      "metadata": {
        "id": "c5xsskArbewe"
      },
      "source": [
        "df.drop(['User ID', 'Gender'], axis=1, inplace=True)"
      ],
      "execution_count": 25,
      "outputs": []
    },
    {
      "cell_type": "code",
      "metadata": {
        "id": "M2bg1utKbucO"
      },
      "source": [
        "X=df.drop(['Purchased'], axis=1)\n",
        "Y=df['Purchased']\n",
        "x_train, x_test, y_train, y_test=train_test_split(X, Y, test_size=0.25, random_state=0)"
      ],
      "execution_count": 26,
      "outputs": []
    },
    {
      "cell_type": "code",
      "metadata": {
        "id": "ASvcO2QJctQC"
      },
      "source": [
        "scale=StandardScaler()\n",
        "x_train=scale.fit_transform(x_train)\n",
        "x_test=scale.transform(x_test)"
      ],
      "execution_count": 27,
      "outputs": []
    },
    {
      "cell_type": "code",
      "metadata": {
        "id": "eCQ1jxQXJC5f"
      },
      "source": [
        "model=GaussianNB()\n",
        "model.fit(x_train, y_train)"
      ],
      "execution_count": null,
      "outputs": []
    },
    {
      "cell_type": "code",
      "metadata": {
        "id": "tKIjCgFhczZp"
      },
      "source": [
        "y_predict=model.predict(x_test)\n",
        "print(classification_report(y_test, y_predict))"
      ],
      "execution_count": null,
      "outputs": []
    },
    {
      "cell_type": "code",
      "metadata": {
        "id": "IVm9e2F3Jfzg"
      },
      "source": [
        "print(confusion_matrix(y_test, y_predict))\n",
        "print(accuracy_score(y_test, y_predict))"
      ],
      "execution_count": null,
      "outputs": []
    },
    {
      "cell_type": "code",
      "metadata": {
        "id": "76VerJnm6i4N"
      },
      "source": [
        "df=pd.read_csv('titanic.csv')\n",
        "df"
      ],
      "execution_count": null,
      "outputs": []
    },
    {
      "cell_type": "code",
      "metadata": {
        "id": "X_vRaS4ZIplO"
      },
      "source": [
        "print(df.isnull().sum())"
      ],
      "execution_count": null,
      "outputs": []
    },
    {
      "cell_type": "code",
      "metadata": {
        "id": "JpzaQcNmSv_a"
      },
      "source": [
        "df.drop(['Age', 'Cabin'], axis=1, inplace=True)\n",
        "df.loc[:, 'Embarked']=df.loc[:, 'Embarked'].fillna('NaN')"
      ],
      "execution_count": 33,
      "outputs": []
    },
    {
      "cell_type": "code",
      "metadata": {
        "id": "05gy1ZzQTa9_"
      },
      "source": [
        "Sex=LabelEncoder()\n",
        "df['_Sex']=Sex.fit_transform(df['Sex'])\n",
        "Embarked=LabelEncoder()\n",
        "df['_Embarked']=Embarked.fit_transform(df['Embarked'])\n",
        "df.drop(['Sex', 'Embarked'], axis=1, inplace=True)"
      ],
      "execution_count": 34,
      "outputs": []
    },
    {
      "cell_type": "code",
      "metadata": {
        "id": "O8-v2FakhJsx"
      },
      "source": [
        "df.drop(['PassengerId', 'Name', 'Ticket'], axis=1, inplace=True)"
      ],
      "execution_count": 35,
      "outputs": []
    },
    {
      "cell_type": "code",
      "metadata": {
        "id": "4IF84u2ocgtq"
      },
      "source": [
        "X=df.drop(['Survived'], axis=1)\n",
        "Y=df['Survived']\n",
        "x_train, x_test, y_train, y_test=train_test_split(X, Y, test_size=0.25, random_state=0)"
      ],
      "execution_count": 36,
      "outputs": []
    },
    {
      "cell_type": "code",
      "metadata": {
        "id": "1z-7fZ47JBCp"
      },
      "source": [
        "scale=StandardScaler()\n",
        "x_train=scale.fit_transform(x_train)\n",
        "x_test=scale.transform(x_test)"
      ],
      "execution_count": 37,
      "outputs": []
    },
    {
      "cell_type": "code",
      "metadata": {
        "id": "n4XHEt3icytQ"
      },
      "source": [
        "model=GaussianNB()\n",
        "model.fit(x_train, y_train)"
      ],
      "execution_count": null,
      "outputs": []
    },
    {
      "cell_type": "code",
      "metadata": {
        "id": "0aLPvgQNJdbo"
      },
      "source": [
        "y_predict=model.predict(x_test)\n",
        "print(classification_report(y_test, y_predict))"
      ],
      "execution_count": null,
      "outputs": []
    },
    {
      "cell_type": "code",
      "metadata": {
        "id": "mRhJqwczc1j_"
      },
      "source": [
        "print(confusion_matrix(y_test, y_predict))\n",
        "print(accuracy_score(y_test, y_predict))"
      ],
      "execution_count": null,
      "outputs": []
    }
  ]
}