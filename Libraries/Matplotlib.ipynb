{
  "nbformat": 4,
  "nbformat_minor": 0,
  "metadata": {
    "colab": {
      "name": "Matplotlib.ipynb",
      "provenance": [],
      "collapsed_sections": []
    },
    "kernelspec": {
      "display_name": "Python 3",
      "name": "python3"
    },
    "language_info": {
      "name": "python"
    }
  },
  "cells": [
    {
      "cell_type": "code",
      "metadata": {
        "id": "esD42KkVMB8y"
      },
      "source": [
        "#Matplotlib\n",
        "import numpy as np\n",
        "import matplotlib.pyplot as plt\n",
        "%matplotlib inline"
      ],
      "execution_count": 80,
      "outputs": []
    },
    {
      "cell_type": "code",
      "metadata": {
        "id": "5xDKyV7WMsEM"
      },
      "source": [
        "A=np.arange(1, 6, 1)\n",
        "plt.plot(A, (A+1), color='r', marker='.', linestyle='solid')\n",
        "plt.xlabel(\"Numbers\", color='b')\n",
        "plt.ylabel(\"Squares\", backgroundcolor='g')\n",
        "plt.xlim(0, 6)\n",
        "plt.ylim(1, 7)\n",
        "plt.xticks([1, 5], ['A', 'B'])\n",
        "plt.yticks([2, 6], ['X', 'Y'], rotation=90)\n",
        "plt.minorticks_on()\n",
        "plt.tick_params(color='m', labelcolor='c', which=\"major\", axis=\"both\", length=5, width=5,\n",
        "                direction=\"out\", bottom=True, left=True, labelbottom=True, labelleft=True)\n",
        "plt.text(3, 4, \"Middle\")\n",
        "plt.title(\"Square of a Number\", color='k', backgroundcolor='y', loc=\"center\")\n",
        "plt.show()"
      ],
      "execution_count": null,
      "outputs": []
    },
    {
      "cell_type": "code",
      "metadata": {
        "id": "wEeUm4smPOZF"
      },
      "source": [
        "plt.plot(A, A, color='b', marker='o', linestyle=\"dashed\", zorder=1, label=\"Number\")\n",
        "plt.plot(A, (A+2), color='g', marker='s', linestyle=\"dotted\", zorder=-1, label=\"Square\")\n",
        "plt.legend(title=\"Legend\", facecolor='c', edgecolor='m', ncol=2)\n",
        "plt.figure()\n",
        "plt.plot(A, (A+3), color='y', marker='^', linestyle=\"dashdot\", alpha=1, label=\"Cube\")\n",
        "plt.minorticks_on()\n",
        "plt.grid(color='k', which=\"major\", axis=\"both\", linestyle='solid', linewidth=1)\n",
        "plt.legend(loc=\"upper left\", markerfirst=True, shadow=True, frameon=True)\n",
        "plt.show()"
      ],
      "execution_count": null,
      "outputs": []
    },
    {
      "cell_type": "code",
      "metadata": {
        "id": "T0c_mXHjUDcM"
      },
      "source": [
        "plt.subplot(221)\n",
        "plt.plot(A, (A+1), \"mx-\", linewidth=1, antialiased=True)\n",
        "plt.subplot(222)\n",
        "plt.plot(A, (A+2), \"c|--\", dashes=[2, 3], markeredgewidth=5)\n",
        "plt.subplot(223)\n",
        "plt.plot(A, (A+3), \"b*:\", markersize=15, markerfacecolor='y', markeredgecolor='r')\n",
        "plt.subplot(224)\n",
        "plt.plot(A, (A+4), \"g+-.\", markevery=2)\n",
        "plt.show()"
      ],
      "execution_count": null,
      "outputs": []
    },
    {
      "cell_type": "code",
      "metadata": {
        "id": "VnHxn66JfEH3"
      },
      "source": [
        "plt.bar([1, 3, 5, 7], [8, 6, 4, 2], width=0.8, bottom=0, align=\"center\", label=\"Bar1\")\n",
        "plt.bar([2, 4, 6, 8], [1, 3, 5, 7], linewidth=5, color='b', edgecolor='r', label=\"Bar2\")\n",
        "plt.legend()\n",
        "plt.show()"
      ],
      "execution_count": null,
      "outputs": []
    },
    {
      "cell_type": "code",
      "source": [
        "plt.barh([1, 3, 5, 7], [8, 6, 4, 2], height=0.8, left=0, align=\"center\", label=\"Bar1\")\n",
        "plt.barh([2, 4, 6, 8], [1, 3, 5, 7], linewidth=5, color='g', edgecolor='r', label=\"Bar2\")\n",
        "plt.legend()\n",
        "plt.show()"
      ],
      "metadata": {
        "id": "KbIYowcf5bSt"
      },
      "execution_count": null,
      "outputs": []
    },
    {
      "cell_type": "code",
      "metadata": {
        "id": "Us5EaXUK4nDU"
      },
      "source": [
        "plt.hist([39, 42, 32, 21, 8, 17, 25, 5, 43, 23, 10, 44, 38, 17, 3, 12, 15, 25, 30, 13, 39, 16, 29, 37, 43, 10],\n",
        "         bins=10, range=[0, 45], rwidth=0.8, bottom=0, align=\"mid\", linewidth=5, color='m', edgecolor='c',\n",
        "         histtype=\"bar\", orientation=\"vertical\", label=\"Histogram\")\n",
        "plt.legend()\n",
        "plt.show()"
      ],
      "execution_count": null,
      "outputs": []
    },
    {
      "cell_type": "code",
      "metadata": {
        "id": "PgunvXVL9uzu"
      },
      "source": [
        "plt.scatter([1, 3, 5, 7, 8, 6, 4, 2], [2, 4, 6, 8, 1, 3, 5, 7], color='r', marker='.', label=\"Scatter\")\n",
        "plt.legend()\n",
        "plt.show()"
      ],
      "execution_count": null,
      "outputs": []
    },
    {
      "cell_type": "code",
      "metadata": {
        "id": "QdL28I4r_677"
      },
      "source": [
        "plt.stackplot([0, 10, 20, 30, 40], [39, 42, 32, 21, 8], [17, 25, 5, 43, 23], [10, 44, 38, 17, 3],\n",
        "              linewidth=5, colors=['y', 'm', 'c'], edgecolor='r', labels=[\"Stack1\", \"Stack2\", \"Stack3\"])\n",
        "plt.legend()\n",
        "plt.show()"
      ],
      "execution_count": null,
      "outputs": []
    },
    {
      "cell_type": "code",
      "metadata": {
        "id": "kGVTSbGiP68Y"
      },
      "source": [
        "plt.pie([10, 5, 5, 20], colors=['r', 'b', 'g', 'y'], radius=1, startangle=90, shadow=True,\n",
        "        explode=[0, 0.1, 0, 0], autopct=\"%1.1f%%\", labels=[\"Pie1\", \"Pie2\", \"Pie3\", \"Pie4\"])\n",
        "plt.legend()\n",
        "plt.show()"
      ],
      "execution_count": null,
      "outputs": []
    }
  ]
}