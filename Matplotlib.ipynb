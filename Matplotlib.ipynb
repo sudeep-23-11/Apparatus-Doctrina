{
  "cells": [
    {
      "cell_type": "code",
      "execution_count": 14,
      "metadata": {
        "id": "esD42KkVMB8y"
      },
      "outputs": [],
      "source": [
        "#Matplotlib\n",
        "import numpy as np\n",
        "import matplotlib.pyplot as plt"
      ]
    },
    {
      "cell_type": "code",
      "execution_count": null,
      "metadata": {
        "id": "5xDKyV7WMsEM"
      },
      "outputs": [],
      "source": [
        "A=np.arange(1, 6, 1)\n",
        "plt.plot(A, (A**2), color='r', linewidth=1.0)\n",
        "plt.xlabel(\"Numbers\")\n",
        "plt.ylabel(\"Squares\")\n",
        "plt.title(\"Square of a Number\")\n",
        "plt.show()"
      ]
    },
    {
      "cell_type": "code",
      "execution_count": null,
      "metadata": {
        "id": "6n5qIfvdNmmd"
      },
      "outputs": [],
      "source": [
        "A=np.arange(1, 6, 1)\n",
        "plt.plot(A, (A**3), \"ro\")\n",
        "plt.xlabel(\"Numbers\")\n",
        "plt.ylabel(\"Cubes\")\n",
        "plt.title(\"Cube of a Number\")\n",
        "plt.grid()\n",
        "plt.show()"
      ]
    },
    {
      "cell_type": "code",
      "execution_count": null,
      "metadata": {
        "id": "wEeUm4smPOZF"
      },
      "outputs": [],
      "source": [
        "A=np.arange(1, 6, 1)\n",
        "plt.plot(A, A, \"y--\", label=\"Number\")\n",
        "plt.plot(A, (A**2), \"bs\", label=\"Square\")\n",
        "plt.plot(A, (A**3), \"g^\", label=\"Cube\")\n",
        "plt.legend()\n",
        "plt.grid()\n",
        "plt.show()"
      ]
    },
    {
      "cell_type": "code",
      "execution_count": null,
      "metadata": {
        "id": "k3Og6cjXSoDk"
      },
      "outputs": [],
      "source": [
        "A=np.arange(1, 6, 1)\n",
        "lines=plt.plot(A, A, A, (A**2))\n",
        "plt.setp(lines[0], color='b', linewidth=2.0)\n",
        "plt.setp(lines[1], color='g', linewidth=3.0)\n",
        "plt.show()"
      ]
    },
    {
      "cell_type": "code",
      "execution_count": null,
      "metadata": {
        "id": "T0c_mXHjUDcM"
      },
      "outputs": [],
      "source": [
        "A=np.arange(1, 6, 1)\n",
        "plt.figure(1)\n",
        "plt.subplot(311)\n",
        "plt.plot(A, A, \"y--\", label=\"Number\")\n",
        "plt.legend()\n",
        "plt.subplot(312)\n",
        "plt.plot(A, (A**2), \"bs\", label=\"Square\")\n",
        "plt.legend()\n",
        "plt.grid()\n",
        "plt.subplot(313)\n",
        "plt.plot(A, (A**3), \"g^\", label=\"Cube\")\n",
        "plt.legend()\n",
        "plt.grid()\n",
        "plt.show()"
      ]
    }
  ],
  "metadata": {
    "colab": {
      "collapsed_sections": [],
      "name": "Matplotlib.ipynb",
      "provenance": []
    },
    "kernelspec": {
      "display_name": "Python 3",
      "name": "python3"
    },
    "language_info": {
      "name": "python"
    }
  },
  "nbformat": 4,
  "nbformat_minor": 0
}
