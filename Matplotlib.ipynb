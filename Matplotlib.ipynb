{
  "nbformat": 4,
  "nbformat_minor": 0,
  "metadata": {
    "colab": {
      "name": "Matplotlib.ipynb",
      "provenance": [],
      "collapsed_sections": []
    },
    "kernelspec": {
      "name": "python3",
      "display_name": "Python 3"
    },
    "language_info": {
      "name": "python"
    }
  },
  "cells": [
    {
      "cell_type": "code",
      "metadata": {
        "id": "esD42KkVMB8y"
      },
      "source": [
        "import numpy as np\n",
        "import matplotlib.pyplot as plt"
      ],
      "execution_count": 14,
      "outputs": []
    },
    {
      "cell_type": "code",
      "metadata": {
        "id": "5xDKyV7WMsEM"
      },
      "source": [
        "A=np.arange(1, 6, 1)\n",
        "plt.plot(A, (A**2), color='r', linewidth=1.0)\n",
        "plt.xlabel('Numbers')\n",
        "plt.ylabel('Squares')\n",
        "plt.title('Square of a Number')\n",
        "plt.show()"
      ],
      "execution_count": null,
      "outputs": []
    },
    {
      "cell_type": "code",
      "metadata": {
        "id": "6n5qIfvdNmmd"
      },
      "source": [
        "A=np.arange(1, 6, 1)\n",
        "plt.plot(A, (A**3), 'ro')\n",
        "plt.xlabel('Numbers')\n",
        "plt.ylabel('Cubes')\n",
        "plt.title('Cube of a Number')\n",
        "plt.grid()\n",
        "plt.show()"
      ],
      "execution_count": null,
      "outputs": []
    },
    {
      "cell_type": "code",
      "metadata": {
        "id": "wEeUm4smPOZF"
      },
      "source": [
        "A=np.arange(1, 6, 1)\n",
        "plt.plot(A, A, 'y--', label='Number')\n",
        "plt.plot(A, (A**2), 'bs', label='Square')\n",
        "plt.plot(A, (A**3), 'g^', label='Cube')\n",
        "plt.legend()\n",
        "plt.grid()\n",
        "plt.show()"
      ],
      "execution_count": null,
      "outputs": []
    },
    {
      "cell_type": "code",
      "metadata": {
        "id": "k3Og6cjXSoDk"
      },
      "source": [
        "A=np.arange(1, 6, 1)\n",
        "lines=plt.plot(A, A, A, (A**2))\n",
        "plt.setp(lines[0], color='b', linewidth=2.0)\n",
        "plt.setp(lines[1], color='g', linewidth=3.0)\n",
        "plt.show()"
      ],
      "execution_count": null,
      "outputs": []
    },
    {
      "cell_type": "code",
      "metadata": {
        "id": "T0c_mXHjUDcM"
      },
      "source": [
        "A=np.arange(1, 6, 1)\n",
        "plt.figure(1)\n",
        "plt.subplot(311)\n",
        "plt.plot(A, A, 'y--', label='Number')\n",
        "plt.legend()\n",
        "plt.subplot(312)\n",
        "plt.plot(A, (A**2), 'bs', label='Square')\n",
        "plt.legend()\n",
        "plt.grid()\n",
        "plt.subplot(313)\n",
        "plt.plot(A, (A**3), 'g^', label='Cube')\n",
        "plt.legend()\n",
        "plt.grid()\n",
        "plt.show()"
      ],
      "execution_count": null,
      "outputs": []
    }
  ]
}