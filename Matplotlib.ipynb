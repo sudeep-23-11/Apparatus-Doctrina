{
  "nbformat": 4,
  "nbformat_minor": 0,
  "metadata": {
    "colab": {
      "name": "Matplotlib.ipynb",
      "provenance": [],
      "collapsed_sections": []
    },
    "kernelspec": {
      "display_name": "Python 3",
      "name": "python3"
    },
    "language_info": {
      "name": "python"
    }
  },
  "cells": [
    {
      "cell_type": "code",
      "metadata": {
        "id": "esD42KkVMB8y"
      },
      "source": [
        "#Matplotlib\n",
        "import numpy as np\n",
        "import matplotlib.pyplot as plt\n",
        "%matplotlib inline"
      ],
      "execution_count": 24,
      "outputs": []
    },
    {
      "cell_type": "code",
      "metadata": {
        "id": "5xDKyV7WMsEM"
      },
      "source": [
        "A=np.arange(1, 6, 1)\n",
        "plt.plot(A, A, color='r', linestyle='solid', linewidth=1, marker='.', markersize=10)\n",
        "plt.xlabel(\"Numbers\")\n",
        "plt.ylabel(\"Squares\")\n",
        "plt.title(\"Square of a Number\")\n",
        "plt.show()"
      ],
      "execution_count": null,
      "outputs": []
    },
    {
      "cell_type": "code",
      "metadata": {
        "id": "wEeUm4smPOZF"
      },
      "source": [
        "plt.plot(A, A, \"ro\", label=\"Number\")\n",
        "plt.plot(A, (A+2), \"bs\", label=\"Square\")\n",
        "plt.legend(loc=\"upper left\")\n",
        "plt.figure()\n",
        "plt.plot(A, (A+3), \"g^\", label=\"Cube\")\n",
        "plt.grid(color='y')\n",
        "plt.legend(loc=\"lower right\")\n",
        "plt.show()"
      ],
      "execution_count": null,
      "outputs": []
    },
    {
      "cell_type": "code",
      "metadata": {
        "id": "k3Og6cjXSoDk"
      },
      "source": [
        "lines=plt.plot(A, (A**2), A, (A**3))\n",
        "plt.setp(lines[0], color='y', linestyle=\"dashed\")\n",
        "plt.setp(lines[1], color='k', linestyle=\"dotted\")\n",
        "plt.show()"
      ],
      "execution_count": null,
      "outputs": []
    },
    {
      "cell_type": "code",
      "metadata": {
        "id": "T0c_mXHjUDcM"
      },
      "source": [
        "plt.subplot(121)\n",
        "plt.plot(A, (A+2), \"m+\")\n",
        "plt.subplot(122)\n",
        "plt.plot(A, (A+3), \"c*\")\n",
        "plt.show()"
      ],
      "execution_count": null,
      "outputs": []
    },
    {
      "cell_type": "code",
      "metadata": {
        "id": "VnHxn66JfEH3"
      },
      "source": [
        "plt.bar([1, 3, 5, 7], [8, 6, 4, 2], color='b', width=0.8, label=\"Bar1\")\n",
        "plt.bar([2, 4, 6, 8], [1, 3, 5, 7], color='g', width=0.8, label=\"Bar2\")\n",
        "plt.legend()\n",
        "plt.show()"
      ],
      "execution_count": null,
      "outputs": []
    },
    {
      "cell_type": "code",
      "metadata": {
        "id": "Us5EaXUK4nDU"
      },
      "source": [
        "plt.hist([39, 42, 32, 21, 8, 17, 25, 5, 43, 23, 10, 44, 38, 17, 3, 12, 15, 25, 30, 13, 39, 16, 29, 37, 43, 10],\n",
        "         bins=[0, 10, 20, 30, 40, 50], color='r', histtype=\"bar\", rwidth=0.8, label=\"Histogram\")\n",
        "plt.legend()\n",
        "plt.show()"
      ],
      "execution_count": null,
      "outputs": []
    },
    {
      "cell_type": "code",
      "metadata": {
        "id": "PgunvXVL9uzu"
      },
      "source": [
        "plt.scatter([1, 3, 5, 7, 8, 6, 4, 2], [2, 4, 6, 8, 1, 3, 5, 7], color='k', marker='.', label=\"Scatter\")\n",
        "plt.legend()\n",
        "plt.show()"
      ],
      "execution_count": null,
      "outputs": []
    },
    {
      "cell_type": "code",
      "metadata": {
        "id": "QdL28I4r_677"
      },
      "source": [
        "plt.stackplot([0, 10, 20, 30, 40], [39, 42, 32, 21, 8], [17, 25, 5, 43, 23], [10, 44, 38, 17, 3],\n",
        "              colors=['y', 'm', 'c'], labels=[\"Stack1\", \"Stack2\", \"Stack3\"])\n",
        "plt.legend()\n",
        "plt.show()"
      ],
      "execution_count": null,
      "outputs": []
    },
    {
      "cell_type": "code",
      "metadata": {
        "id": "kGVTSbGiP68Y"
      },
      "source": [
        "plt.pie([10, 5, 5, 20], colors=['r', 'b', 'g', 'y'], radius=1, startangle=90, shadow=True,\n",
        "        explode=[0, 0.1, 0, 0], autopct=\"%1.1f%%\", labels=[\"Pie1\", \"Pie2\", \"Pie3\", \"Pie4\"])\n",
        "plt.legend()\n",
        "plt.show()"
      ],
      "execution_count": null,
      "outputs": []
    }
  ]
}