{
  "nbformat": 4,
  "nbformat_minor": 0,
  "metadata": {
    "colab": {
      "name": "Tensorflow.ipynb",
      "provenance": [],
      "collapsed_sections": []
    },
    "kernelspec": {
      "name": "python3",
      "display_name": "Python 3"
    },
    "language_info": {
      "name": "python"
    }
  },
  "cells": [
    {
      "cell_type": "code",
      "metadata": {
        "id": "GxA-S2nrAhVi"
      },
      "source": [
        "import tensorflow.compat.v1 as tf\n",
        "tf.disable_eager_execution()"
      ],
      "execution_count": 19,
      "outputs": []
    },
    {
      "cell_type": "code",
      "metadata": {
        "id": "W1y_kbSRHEDj"
      },
      "source": [
        "a=tf.placeholder(tf.float32)\n",
        "b=tf.placeholder(tf.float32)"
      ],
      "execution_count": 20,
      "outputs": []
    },
    {
      "cell_type": "code",
      "metadata": {
        "id": "xxpCNu-z-uzo"
      },
      "source": [
        "sess=tf.Session()\n",
        "print(sess.run(tf.add(a, b), feed_dict={a:[4, 6], b:[2, 3]}), end='\\n\\n')\n",
        "print(sess.run(tf.subtract(a, b), feed_dict={a:[4, 6], b:[2, 3]}), end='\\n\\n')\n",
        "sess.close()"
      ],
      "execution_count": null,
      "outputs": []
    },
    {
      "cell_type": "code",
      "metadata": {
        "id": "XmYM308VBc5A"
      },
      "source": [
        "sess=tf.InteractiveSession()\n",
        "print(tf.multiply(a, b).eval(feed_dict={a:[4, 6], b:[2, 3]}), end='\\n\\n')\n",
        "print(tf.divide(a, b).eval(feed_dict={a:[4, 6], b:[2, 3]}), end='\\n\\n')\n",
        "print(tf.mod(a, b).eval(feed_dict={a:[4, 6], b:[2, 3]}), end='\\n\\n')\n",
        "sess.close()"
      ],
      "execution_count": null,
      "outputs": []
    },
    {
      "cell_type": "code",
      "metadata": {
        "id": "OHm559dA8Eh2"
      },
      "source": [
        "a=tf.constant(5.5, tf.float32)\n",
        "b=tf.constant(5.5, tf.float32)\n",
        "c=[tf.equal(a, b), tf.greater(a, b), tf.greater_equal(a, b), tf.less(a, b), tf.less_equal(a, b)]\n",
        "d=[tf.sin(a), tf.cos(a), tf.tan(a), tf.log(a), tf.log1p(a), tf.exp(a)]\n",
        "e=[tf.square(a), tf.sqrt(a), tf.pow(a, 5), tf.ceil(a), tf.floor(a), tf.round(a)]"
      ],
      "execution_count": 23,
      "outputs": []
    },
    {
      "cell_type": "code",
      "metadata": {
        "id": "HqLKEJvBCiQZ"
      },
      "source": [
        "sess=tf.Session()\n",
        "print(sess.run(c), end='\\n\\n')\n",
        "print(sess.run(d), end='\\n\\n')\n",
        "print(sess.run(e), end='\\n\\n')\n",
        "sess.close()"
      ],
      "execution_count": null,
      "outputs": []
    },
    {
      "cell_type": "code",
      "metadata": {
        "id": "q8bos0X3r4F-"
      },
      "source": [
        "a=[[1, 2]]\n",
        "b=[[3],\n",
        "   [4],\n",
        "   [5]]\n",
        "c=tf.matmul(a, b, transpose_a=True, transpose_b=True)\n",
        "d=tf.Variable(tf.truncated_normal([2, 3]))\n",
        "e=tf.assign(d, tf.cast(c, tf.float32))"
      ],
      "execution_count": 25,
      "outputs": []
    },
    {
      "cell_type": "code",
      "metadata": {
        "id": "6kNAQTy3r3_Y"
      },
      "source": [
        "sess=tf.Session()\n",
        "sess.run(e)\n",
        "print(sess.run(d))\n",
        "sess.close()"
      ],
      "execution_count": null,
      "outputs": []
    }
  ]
}