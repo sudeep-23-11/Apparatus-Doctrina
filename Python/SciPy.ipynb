{
  "cells": [
    {
      "cell_type": "code",
      "execution_count": null,
      "metadata": {
        "id": "5i7HWWK-NN6i"
      },
      "outputs": [],
      "source": [
        "#SciPy\n",
        "import numpy as np\n",
        "from numpy import linalg"
      ]
    },
    {
      "cell_type": "code",
      "execution_count": null,
      "metadata": {},
      "outputs": [],
      "source": [
        "A=np.array([[1, 2], [3, 4]])\n",
        "B=np.array([5, 6])\n",
        "print(linalg.det(A), linalg.inv(A), linalg.matrix_power(A, 2), sep=\"\\n\")\n",
        "print(linalg.solve(A, B))"
      ]
    },
    {
      "cell_type": "code",
      "execution_count": null,
      "metadata": {},
      "outputs": [],
      "source": [
        "\n",
        "from scipy import special\n",
        "from scipy import integrate\n",
        "from scipy import linalg"
      ]
    },
    {
      "cell_type": "code",
      "execution_count": null,
      "metadata": {
        "id": "YbY6lbX4Tenl"
      },
      "outputs": [],
      "source": [
        "print(special.round(2.56), special.cbrt(2), special.exp2(2), special.exp10(2))\n",
        "print(special.sindg(30), special.cosdg(30), special.tandg(30), special.cotdg(30))\n",
        "print(special.radian(180, 0, 0), special.factorial(5))"
      ]
    },
    {
      "cell_type": "code",
      "execution_count": null,
      "metadata": {},
      "outputs": [],
      "source": [
        "\n",
        "print(linalg.det(A), linalg.inv(A), linalg.signm(A), sep=\"\\n\")\n",
        "print(linalg.sqrtm(A), linalg.logm(A), linalg.expm(A), sep=\"\\n\")\n",
        "print(linalg.sinm(A), linalg.cosm(A), linalg.tanm(A), sep=\"\\n\")\n",
        "print(linalg.solve(A, B))"
      ]
    },
    {
      "cell_type": "code",
      "execution_count": null,
      "metadata": {
        "id": "-_PTxR09WkYU"
      },
      "outputs": [],
      "source": [
        "f=lambda x : x**2\n",
        "g=lambda x, y : (x**2)*(y**2)\n",
        "h=lambda x, y, z : (x**2)*(y**2)*(z**2)\n",
        "print(integrate.quad(f, 1, 2))\n",
        "print(integrate.dblquad(g, 1, 2, 1, 3))\n",
        "print(integrate.tplquad(h, 1, 2, 1, 3, 1, 4))"
      ]
    }
  ],
  "metadata": {
    "colab": {
      "collapsed_sections": [],
      "name": "Scipy.ipynb",
      "provenance": []
    },
    "kernelspec": {
      "display_name": "Python 3",
      "name": "python3"
    },
    "language_info": {
      "codemirror_mode": {
        "name": "ipython",
        "version": 3
      },
      "file_extension": ".py",
      "mimetype": "text/x-python",
      "name": "python",
      "nbconvert_exporter": "python",
      "pygments_lexer": "ipython3",
      "version": "3.11.3"
    }
  },
  "nbformat": 4,
  "nbformat_minor": 0
}
