{
  "nbformat": 4,
  "nbformat_minor": 0,
  "metadata": {
    "colab": {
      "name": "NumPy3.ipynb",
      "provenance": [],
      "collapsed_sections": []
    },
    "kernelspec": {
      "name": "python3",
      "display_name": "Python 3"
    },
    "language_info": {
      "name": "python"
    }
  },
  "cells": [
    {
      "cell_type": "code",
      "execution_count": 22,
      "metadata": {
        "id": "18ywAtsNdnJ1"
      },
      "outputs": [],
      "source": [
        "#NumPy3\n",
        "import numpy as np\n",
        "from numpy import linalg"
      ]
    },
    {
      "cell_type": "code",
      "source": [
        "A=np.array([[2, 4, 1], [5, 3, 6]])\n",
        "print(np.zeros((3, 3)), np.ones((3, 3)), np.empty((3, 3)), sep=\"\\n\\n\", end=\"\\n\\n\")\n",
        "print(np.zeros_like(A), np.ones_like(A), np.empty_like(A), sep=\"\\n\\n\", end=\"\\n\\n\")\n",
        "print(np.eye(3, 3, k=0), np.identity(3), np.diag([1, 2, 3]), sep=\"\\n\\n\", end=\"\\n\\n\")\n",
        "print(np.random.rand(3, 3), np.random.randint(5, size=(3, 3)), sep=\"\\n\\n\", end=\"\\n\\n\")"
      ],
      "metadata": {
        "id": "XG7NR9-l9BsQ"
      },
      "execution_count": null,
      "outputs": []
    },
    {
      "cell_type": "code",
      "source": [
        "print(A.flatten(order='C'), end=\"\\n\\n\")\n",
        "print(np.ravel(A, order='C'), end=\"\\n\\n\")\n",
        "print(np.reshape(A, (6, 1), order='C'), end=\"\\n\\n\")\n",
        "print(np.resize(A, (9, 1)), end=\"\\n\\n\")\n",
        "print(A.T, end=\"\\n\\n\")\n",
        "print(np.transpose(A), end=\"\\n\\n\")\n",
        "print(np.swapaxes(A, 0, 1), end=\"\\n\\n\")"
      ],
      "metadata": {
        "id": "qpGPyO04dwyl"
      },
      "execution_count": null,
      "outputs": []
    },
    {
      "cell_type": "code",
      "source": [
        "A=np.array([[1, 2, 3], [4, 5, 6]])\n",
        "B=np.array([[7, 8, 9], [10, 11, 12]])\n",
        "C=np.concatenate((A, B), axis=0)\n",
        "D=np.concatenate((A, B), axis=1)\n",
        "E=np.vstack([A, B])\n",
        "F=np.hstack([A, B])\n",
        "print(C, D, E, F, sep=\"\\n\\n\")"
      ],
      "metadata": {
        "id": "F7uikQ9EeSGz"
      },
      "execution_count": null,
      "outputs": []
    },
    {
      "cell_type": "code",
      "source": [
        "A=np.array([[1, 2], [3, 4]])\n",
        "print(np.dot(A, A), end=\"\\n\\n\")\n",
        "print(np.where(A>5, A, -1), end=\"\\n\\n\")"
      ],
      "metadata": {
        "id": "lDD39nRiq0tt"
      },
      "execution_count": null,
      "outputs": []
    },
    {
      "cell_type": "code",
      "source": [
        "print(linalg.det(A), end=\"\\n\\n\")\n",
        "print(linalg.inv(A), end=\"\\n\\n\")\n",
        "print(linalg.matrix_power(A, 2), end=\"\\n\\n\")"
      ],
      "metadata": {
        "id": "iHxiJcQjovVR"
      },
      "execution_count": null,
      "outputs": []
    },
    {
      "cell_type": "code",
      "source": [
        "B=np.array([5, 6])\n",
        "print(linalg.solve(A, B))"
      ],
      "metadata": {
        "id": "PTaNBGaRqUs4"
      },
      "execution_count": null,
      "outputs": []
    }
  ]
}